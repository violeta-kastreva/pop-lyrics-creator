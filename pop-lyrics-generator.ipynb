{
 "cells": [
  {
   "cell_type": "code",
   "execution_count": null,
   "metadata": {},
   "outputs": [],
   "source": [
    "\n",
    "import pandas as pd\n",
    "import numpy as np\n",
    "import re\n",
    "import tensorflow as tf  \n",
    "from transformers import pipeline\n",
    "from sklearn.model_selection import train_test_split\n",
    "from sklearn.metrics import accuracy_score, f1_score\n",
    "import matplotlib.pyplot as plt\n",
    "from transformers import TFGPT2LMHeadModel, GPT2Tokenizer, TFGPT2Model, GPT2Config\n",
    "from tensorflow.keras.optimizers import Adam\n",
    "from tensorflow.keras.callbacks import EarlyStopping, ModelCheckpoint\n",
    "\n",
    "\n"
   ]
  },
  {
   "cell_type": "markdown",
   "metadata": {},
   "source": [
    "# Developing a Model for Generating Pop Song Lyrics\n",
    "## By: Violeta Kasyteva\n",
    "## Summary:\n",
    "This project explores the development of a machine learning model leveraging GPT-2 (distilGPT2) to automate the generation of pop song lyrics. By fine-tuning a pre-trained model on a curated dataset of pop music lyrics, we aim to capture the stylistic nuances of the genre. \n",
    "\n",
    "<center>\n",
    "    <figure>\n",
    "        <img alt=\"Singers\" src=\"./pictures/singers.jpg\" width=700 />\n",
    "    </figure>\n",
    "</center>\n"
   ]
  },
  {
   "cell_type": "markdown",
   "metadata": {},
   "source": [
    "## Data Source\n",
    "[The dataset comprises pop song lyrics collected from various online sources.](https://www.kaggle.com/datasets/carlosgdcj/genius-song-lyrics-with-language-information/data)\n",
    "\n",
    "## Data Acquisition\n",
    "First, load the dataset containing song lyrics into a pandas DataFrame. This dataset includes various metadata about each song.\n"
   ]
  },
  {
   "cell_type": "code",
   "execution_count": null,
   "metadata": {},
   "outputs": [],
   "source": [
    "df = pd.read_csv('data/song_lyrics.csv')  "
   ]
  },
  {
   "cell_type": "markdown",
   "metadata": {},
   "source": [
    "Filter the dataset to include only pop songs with lyrics in English. This is achieved by selecting rows where the genre is tagged as 'pop' and the song's language is confirmed to be English by either the CLD3 or FastText models, or both"
   ]
  },
  {
   "cell_type": "code",
   "execution_count": null,
   "metadata": {},
   "outputs": [
    {
     "data": {
      "text/html": [
       "<div>\n",
       "<style scoped>\n",
       "    .dataframe tbody tr th:only-of-type {\n",
       "        vertical-align: middle;\n",
       "    }\n",
       "\n",
       "    .dataframe tbody tr th {\n",
       "        vertical-align: top;\n",
       "    }\n",
       "\n",
       "    .dataframe thead th {\n",
       "        text-align: right;\n",
       "    }\n",
       "</style>\n",
       "<table border=\"1\" class=\"dataframe\">\n",
       "  <thead>\n",
       "    <tr style=\"text-align: right;\">\n",
       "      <th></th>\n",
       "      <th>title</th>\n",
       "      <th>tag</th>\n",
       "      <th>artist</th>\n",
       "      <th>year</th>\n",
       "      <th>views</th>\n",
       "      <th>features</th>\n",
       "      <th>lyrics</th>\n",
       "      <th>id</th>\n",
       "      <th>language_cld3</th>\n",
       "      <th>language_ft</th>\n",
       "      <th>language</th>\n",
       "    </tr>\n",
       "  </thead>\n",
       "  <tbody>\n",
       "    <tr>\n",
       "      <th>239</th>\n",
       "      <td>Wordy Rappinghood</td>\n",
       "      <td>pop</td>\n",
       "      <td>Tom Tom Club</td>\n",
       "      <td>1981</td>\n",
       "      <td>26499</td>\n",
       "      <td>{}</td>\n",
       "      <td>[Chorus]\\nWhat are words worth?\\nWhat are word...</td>\n",
       "      <td>242</td>\n",
       "      <td>en</td>\n",
       "      <td>en</td>\n",
       "      <td>en</td>\n",
       "    </tr>\n",
       "    <tr>\n",
       "      <th>389</th>\n",
       "      <td>Horchata</td>\n",
       "      <td>pop</td>\n",
       "      <td>Vampire Weekend</td>\n",
       "      <td>2009</td>\n",
       "      <td>102550</td>\n",
       "      <td>{}</td>\n",
       "      <td>[Verse 1]\\nIn December, drinking horchata\\nI'd...</td>\n",
       "      <td>384</td>\n",
       "      <td>en</td>\n",
       "      <td>en</td>\n",
       "      <td>en</td>\n",
       "    </tr>\n",
       "    <tr>\n",
       "      <th>516</th>\n",
       "      <td>Heartless</td>\n",
       "      <td>pop</td>\n",
       "      <td>Kanye West</td>\n",
       "      <td>2008</td>\n",
       "      <td>1175109</td>\n",
       "      <td>{}</td>\n",
       "      <td>[Chorus]\\nIn the night, I hear 'em talk\\nThe c...</td>\n",
       "      <td>526</td>\n",
       "      <td>en</td>\n",
       "      <td>en</td>\n",
       "      <td>en</td>\n",
       "    </tr>\n",
       "    <tr>\n",
       "      <th>557</th>\n",
       "      <td>Flashing Lights</td>\n",
       "      <td>pop</td>\n",
       "      <td>Kanye West</td>\n",
       "      <td>2007</td>\n",
       "      <td>1078113</td>\n",
       "      <td>{Dwele}</td>\n",
       "      <td>[Intro: Connie Mitchell]\\nFlashing lights (Lig...</td>\n",
       "      <td>523</td>\n",
       "      <td>en</td>\n",
       "      <td>en</td>\n",
       "      <td>en</td>\n",
       "    </tr>\n",
       "    <tr>\n",
       "      <th>588</th>\n",
       "      <td>Baby</td>\n",
       "      <td>pop</td>\n",
       "      <td>Justin Bieber</td>\n",
       "      <td>2010</td>\n",
       "      <td>2232442</td>\n",
       "      <td>{Ludacris}</td>\n",
       "      <td>[Produced by The-Dream and Tricky Stewart]\\n\\n...</td>\n",
       "      <td>566</td>\n",
       "      <td>en</td>\n",
       "      <td>en</td>\n",
       "      <td>en</td>\n",
       "    </tr>\n",
       "    <tr>\n",
       "      <th>...</th>\n",
       "      <td>...</td>\n",
       "      <td>...</td>\n",
       "      <td>...</td>\n",
       "      <td>...</td>\n",
       "      <td>...</td>\n",
       "      <td>...</td>\n",
       "      <td>...</td>\n",
       "      <td>...</td>\n",
       "      <td>...</td>\n",
       "      <td>...</td>\n",
       "      <td>...</td>\n",
       "    </tr>\n",
       "    <tr>\n",
       "      <th>5134844</th>\n",
       "      <td>Baby Hold On</td>\n",
       "      <td>pop</td>\n",
       "      <td>Ryan Egan</td>\n",
       "      <td>2022</td>\n",
       "      <td>5</td>\n",
       "      <td>{}</td>\n",
       "      <td>At this crossroads\\nI don’t wanna go and gambl...</td>\n",
       "      <td>7882831</td>\n",
       "      <td>en</td>\n",
       "      <td>en</td>\n",
       "      <td>en</td>\n",
       "    </tr>\n",
       "    <tr>\n",
       "      <th>5134847</th>\n",
       "      <td>Everything Is Alright Now</td>\n",
       "      <td>pop</td>\n",
       "      <td>Chuck Bernard</td>\n",
       "      <td>2013</td>\n",
       "      <td>2</td>\n",
       "      <td>{}</td>\n",
       "      <td>Everything is alright now\\nOh yes, baby\\nEvery...</td>\n",
       "      <td>7882838</td>\n",
       "      <td>en</td>\n",
       "      <td>en</td>\n",
       "      <td>en</td>\n",
       "    </tr>\n",
       "    <tr>\n",
       "      <th>5134849</th>\n",
       "      <td>White Lies</td>\n",
       "      <td>pop</td>\n",
       "      <td>ElementD</td>\n",
       "      <td>2019</td>\n",
       "      <td>1</td>\n",
       "      <td>{\"Harley Bird\"}</td>\n",
       "      <td>[Verse 1]\\nHalf truth and half you\\nDidn't we ...</td>\n",
       "      <td>7882840</td>\n",
       "      <td>en</td>\n",
       "      <td>en</td>\n",
       "      <td>en</td>\n",
       "    </tr>\n",
       "    <tr>\n",
       "      <th>5134851</th>\n",
       "      <td>Ocean</td>\n",
       "      <td>pop</td>\n",
       "      <td>Effemar</td>\n",
       "      <td>2022</td>\n",
       "      <td>3</td>\n",
       "      <td>{}</td>\n",
       "      <td>[Verse 1]\\nDance for me now\\nKeeping yourself ...</td>\n",
       "      <td>7882842</td>\n",
       "      <td>en</td>\n",
       "      <td>en</td>\n",
       "      <td>en</td>\n",
       "    </tr>\n",
       "    <tr>\n",
       "      <th>5134853</th>\n",
       "      <td>Raise Our Hands</td>\n",
       "      <td>pop</td>\n",
       "      <td>Culture Code, Pag &amp; Mylo</td>\n",
       "      <td>2016</td>\n",
       "      <td>3</td>\n",
       "      <td>{Elex,\"Culture Code / Pag &amp; Mylo\"}</td>\n",
       "      <td>[Verse 1]\\nHere our purpose feels alive\\nWe ar...</td>\n",
       "      <td>7882845</td>\n",
       "      <td>en</td>\n",
       "      <td>en</td>\n",
       "      <td>en</td>\n",
       "    </tr>\n",
       "  </tbody>\n",
       "</table>\n",
       "<p>1393559 rows × 11 columns</p>\n",
       "</div>"
      ],
      "text/plain": [
       "                             title  tag                    artist  year  \\\n",
       "239              Wordy Rappinghood  pop              Tom Tom Club  1981   \n",
       "389                       Horchata  pop           Vampire Weekend  2009   \n",
       "516                      Heartless  pop                Kanye West  2008   \n",
       "557                Flashing Lights  pop                Kanye West  2007   \n",
       "588                           Baby  pop             Justin Bieber  2010   \n",
       "...                            ...  ...                       ...   ...   \n",
       "5134844               Baby Hold On  pop                 Ryan Egan  2022   \n",
       "5134847  Everything Is Alright Now  pop             Chuck Bernard  2013   \n",
       "5134849                 White Lies  pop                  ElementD  2019   \n",
       "5134851                      Ocean  pop                   Effemar  2022   \n",
       "5134853            Raise Our Hands  pop  Culture Code, Pag & Mylo  2016   \n",
       "\n",
       "           views                            features  \\\n",
       "239        26499                                  {}   \n",
       "389       102550                                  {}   \n",
       "516      1175109                                  {}   \n",
       "557      1078113                             {Dwele}   \n",
       "588      2232442                          {Ludacris}   \n",
       "...          ...                                 ...   \n",
       "5134844        5                                  {}   \n",
       "5134847        2                                  {}   \n",
       "5134849        1                     {\"Harley Bird\"}   \n",
       "5134851        3                                  {}   \n",
       "5134853        3  {Elex,\"Culture Code / Pag & Mylo\"}   \n",
       "\n",
       "                                                    lyrics       id  \\\n",
       "239      [Chorus]\\nWhat are words worth?\\nWhat are word...      242   \n",
       "389      [Verse 1]\\nIn December, drinking horchata\\nI'd...      384   \n",
       "516      [Chorus]\\nIn the night, I hear 'em talk\\nThe c...      526   \n",
       "557      [Intro: Connie Mitchell]\\nFlashing lights (Lig...      523   \n",
       "588      [Produced by The-Dream and Tricky Stewart]\\n\\n...      566   \n",
       "...                                                    ...      ...   \n",
       "5134844  At this crossroads\\nI don’t wanna go and gambl...  7882831   \n",
       "5134847  Everything is alright now\\nOh yes, baby\\nEvery...  7882838   \n",
       "5134849  [Verse 1]\\nHalf truth and half you\\nDidn't we ...  7882840   \n",
       "5134851  [Verse 1]\\nDance for me now\\nKeeping yourself ...  7882842   \n",
       "5134853  [Verse 1]\\nHere our purpose feels alive\\nWe ar...  7882845   \n",
       "\n",
       "        language_cld3 language_ft language  \n",
       "239                en          en       en  \n",
       "389                en          en       en  \n",
       "516                en          en       en  \n",
       "557                en          en       en  \n",
       "588                en          en       en  \n",
       "...               ...         ...      ...  \n",
       "5134844            en          en       en  \n",
       "5134847            en          en       en  \n",
       "5134849            en          en       en  \n",
       "5134851            en          en       en  \n",
       "5134853            en          en       en  \n",
       "\n",
       "[1393559 rows x 11 columns]"
      ]
     },
     "execution_count": 5,
     "metadata": {},
     "output_type": "execute_result"
    }
   ],
   "source": [
    "df_pop = df[df['tag'] == 'pop']\n",
    "# Example: Keeping relevant fields\n",
    "df_pop_english = df_pop[(df_pop['language'] == 'en') | ((df_pop['language_cld3'] == 'en') & (df_pop['language_ft'] == 'en'))]\n",
    "\n",
    "# Example: Text preprocessing for lyrics (simple example)\n",
    "\n",
    "df_pop_english"
   ]
  },
  {
   "cell_type": "markdown",
   "metadata": {},
   "source": [
    "Remove unnecessary columns to simplify the DataFrame. Columns such as 'tag', 'views', 'features', and language identification fields are dropped."
   ]
  },
  {
   "cell_type": "code",
   "execution_count": null,
   "metadata": {},
   "outputs": [
    {
     "data": {
      "text/html": [
       "<div>\n",
       "<style scoped>\n",
       "    .dataframe tbody tr th:only-of-type {\n",
       "        vertical-align: middle;\n",
       "    }\n",
       "\n",
       "    .dataframe tbody tr th {\n",
       "        vertical-align: top;\n",
       "    }\n",
       "\n",
       "    .dataframe thead th {\n",
       "        text-align: right;\n",
       "    }\n",
       "</style>\n",
       "<table border=\"1\" class=\"dataframe\">\n",
       "  <thead>\n",
       "    <tr style=\"text-align: right;\">\n",
       "      <th></th>\n",
       "      <th>title</th>\n",
       "      <th>artist</th>\n",
       "      <th>year</th>\n",
       "      <th>lyrics</th>\n",
       "      <th>id</th>\n",
       "    </tr>\n",
       "  </thead>\n",
       "  <tbody>\n",
       "    <tr>\n",
       "      <th>0</th>\n",
       "      <td>Killa Cam</td>\n",
       "      <td>Cam'ron</td>\n",
       "      <td>2004</td>\n",
       "      <td>[Chorus: Opera Steve &amp; Cam'ron]\\nKilla Cam, Ki...</td>\n",
       "      <td>1</td>\n",
       "    </tr>\n",
       "    <tr>\n",
       "      <th>1</th>\n",
       "      <td>Can I Live</td>\n",
       "      <td>JAY-Z</td>\n",
       "      <td>1996</td>\n",
       "      <td>[Produced by Irv Gotti]\\n\\n[Intro]\\nYeah, hah,...</td>\n",
       "      <td>3</td>\n",
       "    </tr>\n",
       "    <tr>\n",
       "      <th>2</th>\n",
       "      <td>Forgive Me Father</td>\n",
       "      <td>Fabolous</td>\n",
       "      <td>2003</td>\n",
       "      <td>Maybe cause I'm eatin\\nAnd these bastards fien...</td>\n",
       "      <td>4</td>\n",
       "    </tr>\n",
       "    <tr>\n",
       "      <th>3</th>\n",
       "      <td>Down and Out</td>\n",
       "      <td>Cam'ron</td>\n",
       "      <td>2004</td>\n",
       "      <td>[Produced by Kanye West and Brian Miller]\\n\\n[...</td>\n",
       "      <td>5</td>\n",
       "    </tr>\n",
       "    <tr>\n",
       "      <th>4</th>\n",
       "      <td>Fly In</td>\n",
       "      <td>Lil Wayne</td>\n",
       "      <td>2005</td>\n",
       "      <td>[Intro]\\nSo they ask me\\n\"Young boy\\nWhat you ...</td>\n",
       "      <td>6</td>\n",
       "    </tr>\n",
       "    <tr>\n",
       "      <th>...</th>\n",
       "      <td>...</td>\n",
       "      <td>...</td>\n",
       "      <td>...</td>\n",
       "      <td>...</td>\n",
       "      <td>...</td>\n",
       "    </tr>\n",
       "    <tr>\n",
       "      <th>5134851</th>\n",
       "      <td>Ocean</td>\n",
       "      <td>Effemar</td>\n",
       "      <td>2022</td>\n",
       "      <td>[Verse 1]\\nDance for me now\\nKeeping yourself ...</td>\n",
       "      <td>7882842</td>\n",
       "    </tr>\n",
       "    <tr>\n",
       "      <th>5134852</th>\n",
       "      <td>64 Bars</td>\n",
       "      <td>Rapido</td>\n",
       "      <td>2022</td>\n",
       "      <td>[Intro]\\n\\nJa, ja\\n\\n[Part 1]\\n\\nR-A-H, Merhab...</td>\n",
       "      <td>7882843</td>\n",
       "    </tr>\n",
       "    <tr>\n",
       "      <th>5134853</th>\n",
       "      <td>Raise Our Hands</td>\n",
       "      <td>Culture Code, Pag &amp; Mylo</td>\n",
       "      <td>2016</td>\n",
       "      <td>[Verse 1]\\nHere our purpose feels alive\\nWe ar...</td>\n",
       "      <td>7882845</td>\n",
       "    </tr>\n",
       "    <tr>\n",
       "      <th>5134854</th>\n",
       "      <td>CEO</td>\n",
       "      <td>Antropolita</td>\n",
       "      <td>2022</td>\n",
       "      <td>Jestem CEO w tym\\nTo jara twoją bitch\\nNikt na...</td>\n",
       "      <td>7882846</td>\n",
       "    </tr>\n",
       "    <tr>\n",
       "      <th>5134855</th>\n",
       "      <td>New Number</td>\n",
       "      <td>Alana Springsteen</td>\n",
       "      <td>2022</td>\n",
       "      <td>[Verse 1]\\nYou need a new number, one that ain...</td>\n",
       "      <td>7882848</td>\n",
       "    </tr>\n",
       "  </tbody>\n",
       "</table>\n",
       "<p>5134856 rows × 5 columns</p>\n",
       "</div>"
      ],
      "text/plain": [
       "                     title                    artist  year  \\\n",
       "0                Killa Cam                   Cam'ron  2004   \n",
       "1               Can I Live                     JAY-Z  1996   \n",
       "2        Forgive Me Father                  Fabolous  2003   \n",
       "3             Down and Out                   Cam'ron  2004   \n",
       "4                   Fly In                 Lil Wayne  2005   \n",
       "...                    ...                       ...   ...   \n",
       "5134851              Ocean                   Effemar  2022   \n",
       "5134852            64 Bars                    Rapido  2022   \n",
       "5134853    Raise Our Hands  Culture Code, Pag & Mylo  2016   \n",
       "5134854                CEO               Antropolita  2022   \n",
       "5134855         New Number         Alana Springsteen  2022   \n",
       "\n",
       "                                                    lyrics       id  \n",
       "0        [Chorus: Opera Steve & Cam'ron]\\nKilla Cam, Ki...        1  \n",
       "1        [Produced by Irv Gotti]\\n\\n[Intro]\\nYeah, hah,...        3  \n",
       "2        Maybe cause I'm eatin\\nAnd these bastards fien...        4  \n",
       "3        [Produced by Kanye West and Brian Miller]\\n\\n[...        5  \n",
       "4        [Intro]\\nSo they ask me\\n\"Young boy\\nWhat you ...        6  \n",
       "...                                                    ...      ...  \n",
       "5134851  [Verse 1]\\nDance for me now\\nKeeping yourself ...  7882842  \n",
       "5134852  [Intro]\\n\\nJa, ja\\n\\n[Part 1]\\n\\nR-A-H, Merhab...  7882843  \n",
       "5134853  [Verse 1]\\nHere our purpose feels alive\\nWe ar...  7882845  \n",
       "5134854  Jestem CEO w tym\\nTo jara twoją bitch\\nNikt na...  7882846  \n",
       "5134855  [Verse 1]\\nYou need a new number, one that ain...  7882848  \n",
       "\n",
       "[5134856 rows x 5 columns]"
      ]
     },
     "execution_count": 6,
     "metadata": {},
     "output_type": "execute_result"
    }
   ],
   "source": [
    "# Assuming df is your DataFrame\n",
    "columns_to_drop = ['tag', 'views', 'features', 'language_cld3', 'language_ft', 'language']\n",
    "df_simplified = df.drop(columns=columns_to_drop)\n",
    "\n",
    "df_simplified"
   ]
  },
  {
   "cell_type": "markdown",
   "metadata": {},
   "source": [
    "Configure pandas display settings to improve the readability of DataFrame outputs, especially useful when dealing with wide datasets or long text fields."
   ]
  },
  {
   "cell_type": "code",
   "execution_count": null,
   "metadata": {},
   "outputs": [],
   "source": [
    "pd.set_option('display.max_rows', 50)  # Ensure up to 50 rows can be displayed\n",
    "pd.set_option('display.max_columns', None)  # Show all columns of the simplified DataFrame\n",
    "pd.set_option('display.width', None)  # Auto-detect the display width to accommodate the content\n",
    "pd.set_option('display.max_colwidth', None)  # Show full content of each cell, adjust if necessary for readability\n"
   ]
  },
  {
   "cell_type": "markdown",
   "metadata": {},
   "source": [
    "Remove rows with any missing values to ensure the dataset's completeness. Additionally, replace empty strings with NaN to treat them as missing values, and then remove these rows as well."
   ]
  },
  {
   "cell_type": "code",
   "execution_count": null,
   "metadata": {},
   "outputs": [],
   "source": [
    "# Drop rows where any of the cells have NaN values\n",
    "df_cleaned = df_simplified.dropna()\n",
    "\n",
    "df_cleaned.replace('', pd.NA, inplace=True)  # Replace empty strings with NaN\n",
    "df_cleaned.dropna(inplace=True)  # Drop rows with NaN values (now including those that were empty strings)\n",
    "\n",
    "df_cleaned.reset_index(drop=True, inplace=True)\n",
    "\n"
   ]
  },
  {
   "cell_type": "markdown",
   "metadata": {},
   "source": [
    "Here is what we have so far:"
   ]
  },
  {
   "cell_type": "code",
   "execution_count": null,
   "metadata": {},
   "outputs": [
    {
     "data": {
      "text/html": [
       "<div>\n",
       "<style scoped>\n",
       "    .dataframe tbody tr th:only-of-type {\n",
       "        vertical-align: middle;\n",
       "    }\n",
       "\n",
       "    .dataframe tbody tr th {\n",
       "        vertical-align: top;\n",
       "    }\n",
       "\n",
       "    .dataframe thead th {\n",
       "        text-align: right;\n",
       "    }\n",
       "</style>\n",
       "<table border=\"1\" class=\"dataframe\">\n",
       "  <thead>\n",
       "    <tr style=\"text-align: right;\">\n",
       "      <th></th>\n",
       "      <th>title</th>\n",
       "      <th>artist</th>\n",
       "      <th>year</th>\n",
       "      <th>lyrics</th>\n",
       "      <th>id</th>\n",
       "    </tr>\n",
       "  </thead>\n",
       "  <tbody>\n",
       "    <tr>\n",
       "      <th>0</th>\n",
       "      <td>Killa Cam</td>\n",
       "      <td>Cam'ron</td>\n",
       "      <td>2004</td>\n",
       "      <td>[Chorus: Opera Steve &amp; Cam'ron]\\nKilla Cam, Killa Cam, Cam\\nKilla Cam, Killa Cam\\nKilla Cam, Cam\\nKilla Cam, Killa Cam, Cam\\nKilla Killa Killa Cam\\nKilla Cam, Cam, Killa (Killa!)\\nKilla Cam, Killa Cam, Cam (Bases loaded)\\nKilla Cam, Killa Cam (Uh-huh)\\nKilla Cam, Cam (Santana on second, Jim on third)\\nKilla Cam, Killa Cam, Cam (I'm at bat)\\nKilla Killa Killa Cam\\nKilla Cam, Cam, Killa (I'm 'bout to hit this shit out the world)\\nKilla Cam (Ugh, Heatmakerz), Killa Cam, Cam\\nKilla Cam, Killa Cam\\nKilla Cam, Cam (Hahahaha)\\nKilla Cam, Killa Cam, Cam\\nKilla Killa Killa Cam\\nKilla Cam, Cam, Killa (We  make this shit clap)\\nKilla Cam, Killa Cam, Cam\\nKilla Cam, Killa Cam\\nKilla Cam, Cam\\nKilla Cam, Killa Cam, Cam\\nKilla Killa Killa Cam (Killa! Killa!)\\nKilla Cam, Cam, Killa\\n[Verse 1]\\nWith the goons I spar, stay in tune with ma (What up?)\\nShe like, \"Damn, this the realest since 'Kumbaya'\"\\nBomaye, Killa Cam, my Lord (My Lord)\\nStill the man with the pan, scrilla, fam, on board\\nNow bitches, they want to neuter me, niggas, they want to tutor me\\nThe hooligan in Houlihan's, maneuvering's nothing new to me\\nDoggy, I'm from the land of grind, pan-pan: gram or dime?\\nNot toes or MC when I say \"hammer time\"\\nBeef: I hammer mine, when I get my hands on nines\\nIf I had on 'Bama line, Corduroys, Cam'll shine\\nCanary burgundy: I call it \"Lemon Red\" (Red)\\nYellow diamonds in my ear, call 'em \"Lemonheads\"\\nLemonhead, end up dead, ice like Winnipeg\\nGemstone, Flintstones, you could say I'm friends with Fred\\nYou unhappy, scrappy? (What's going on, Scrappy?)\\nI got Pataki at me\\nBitches say I'm \"Tacky Daddy,\" Range look like Laffy Taffy\\n\\n[Chorus]\\nKilla Cam\\nKilla Cam Cam (sing)\\nKilla Cam Killa Cam\\nKilla Cam Cam (uhh, it's me, clap)\\nKilla Cam\\nKilla Cam Cam\\nKilla Killa Killa Cam (sing)\\nKilla Cam Cam Killa (uhh, it's me, clap)\\nKilla Cam\\nKilla Cam Cam (sing)\\nKilla Cam Killa Cam\\nKilla Cam Cam (clap, it's me)\\nKilla Cam\\nKilla Cam Cam\\nKilla Killa Killa Cam (clap)\\n(Harlem, I know y'all know about this)\\nKilla Cam Cam Killa (Killa!)\\n[Verse 2]\\nYo, I'm from where Nicky Barnes got rich as fuck\\nRich and A hit the kitchens then were pitchin' up\\nRob Base, Mase, Doug E Fresh switched it up\\nI do both, who am I to fuck tradition up? (Killa!)\\nSo I parked in a tow-away zone\\nChrome...I don't care\\nThat car a throwaway, homes (Killa!)\\nWelcome to Harlem, where you welcome to problems\\nOff of furlough, fellow felons get pardons\\nThem niggas knew we bang\\nStood out like Pootie Tang\\nSoon as the stoolie sings\\nThat when the toolie sing!\\nBang! Bang!\\nCame from that movie ring\\nSnap, crack jewelry bling\\nFlapjack, ooh he bring\\nClack-clack, \"ooh he ring!\"\\nBad rap, cuties cling\\nAss cap, put them in the river\\nI'm the sushi king\\nAnd I'ma keep ya fresh\\nLet the fish eat ya flesh\\nYes sir, please confess\\nJust say he's the best (Killa!)\\n[Chorus]\\nKilla Cam (sing)\\nKilla Cam Cam (clap)\\nKilla Cam Killa Cam (yes)\\nKilla Cam Cam (it's me, sing)\\nKilla Cam\\nKilla Cam Cam (sing)\\nKilla Killa Killa Cam\\nKilla Cam Cam Killa  (clap, yes sir, uhh)\\nKilla Cam\\nKilla Cam Cam (sing, clap)\\nKilla Cam Killa Cam\\nKilla Cam Cam (it's me)\\nKilla Cam (sing, clap)\\nKilla Cam Cam\\nKilla Killa Killa Cam\\n(Let me end this shit, listen)\\nKilla Cam Cam Killa\\n\\n[Verse 3]\\n(Killa!) Yo\\nHow dope is this?\\nTeach you how to rope a chick\\nWhat you want: coke or piff?\\nGot it all, smoke or sniff? (everything)\\nAnd you know my drift\\nUsed to figures, dough and shit (millions)\\nYou a rooster nigga, just a roaster, bitch\\nAnd I roast ya bitch\\nThat's how it usually ends\\nTell her and her groupie friends\\nGo get their coochie cleansed\\nWe the moody Gucci, Louis and Pucci men\\nEscada, Prada\\nThe chopper it got the Uzi lens\\nBird's-eye view\\nThe birds I knew flip birds\\nBird gangs, it was birds I flew\\nAnd word I blew off herb I grew\\nI would serve on stoops\\nNow swerve in coupes\\nIt's me, sing! Killa, uhh\\n\\n[Chorus]\\nKilla Cam\\nKilla Cam Cam\\nKilla Cam Killa Cam\\nKilla Cam Cam\\nKilla Cam\\nKilla Cam Cam\\nKilla Killa Killa Cam\\nKilla Cam Cam Killa\\nKilla Cam\\nKilla Cam Cam\\nKilla Cam Killa Cam\\nKilla Cam Cam\\nKilla Cam\\nKilla Cam Cam\\nKilla Killa Killa Cam\\nKilla Cam Cam Killa</td>\n",
       "      <td>1</td>\n",
       "    </tr>\n",
       "    <tr>\n",
       "      <th>1</th>\n",
       "      <td>Can I Live</td>\n",
       "      <td>JAY-Z</td>\n",
       "      <td>1996</td>\n",
       "      <td>[Produced by Irv Gotti]\\n\\n[Intro]\\nYeah, hah, yeah, Roc-A-Fella\\nWe invite you to somethin' epic, you know?\\nWell, we hustle out of a sense of hopelessness\\nSort of a desperation\\nThrough that desperation, we become addicted\\nSort of like the fiends we accustomed to servin'\\nBut we feel we have nothin' to lose\\nSo, we offer you, well, we offer our lives, right?\\nWhat do you bring to the table?\\n\\n[Verse 1]\\nWhile I'm watchin' every nigga watchin' me closely\\nMy shit is butter for the bread, they wanna toast me\\nI keep my head, both of them, where they supposed to be\\nHoes'll get you sidetracked, then clapped from close feet\\nI don't sleep, I'm tired, I feel wired like codeine, these days\\nA brother gotta admire me from four fiends away\\nMy pain, wish it was quick to see\\nFrom sellin' 'caine 'til brains was fried to a fricassee\\nCan't lie, at the time it never bothered me\\nAt the bar, gettin' my thug on properly\\nMy squad and me lack of respect for authority\\nLaughin' hard, happy to be escapin' poverty, however brief\\nI know this game got valleys and peaks\\nExpectation for dips, for precipitation we stack chips, hardly\\nThe youth I used to be, soon to see a mill'in\\nNo more Big Willie, my game has grown\\nPrefer you call me William\\nIllin' for revenues, Rayful Edmond-like\\nChannel 7 News, round seven jewels, head dead in the mic\\nForgettin' all I ever knew, convenient amnesia\\n\"I suggest you call my lawyer, I know the procedure.\"\\nLock my body, can't trap my mind\\nEasily explain why we adapt to crime\\nI'd rather die enormous than live dormant, that's how we on it\\nLive at the main event, I bet a trip to Maui on it\\nPresidential suites my residential for the weekend\\nConfidentially speakin' in codes since I sense you peekin'\\nThe NSX rental, don't be fooled, my game is mental\\nWe both out of town, dog, what you tryin' to get into?\\nViva Las Vegas, see ya later at the crap tables\\nMeet me by the one that starts a G up\\nThis way no Fraud Willies present gamblin' they re-up\\nAnd we can have a pleasant time, sippin' margaritas\\n[Chorus]\\nGe-ge-geyeahhh\\nCan I live?\\nCan I live?\\n\\n[Verse 2]\\nMy mind is infested with sick thoughts that circle\\nLike a Lexus, if driven wrong it's sure to hurt you\\nDual level like duplexes, in unity\\nMy crew and me commit atrocities like we got immunity\\nYou guessed it, manifest it\\nIn tangible goods, platinum Rolex'd it\\nWe don't lease, we buy the whole car, as you should\\nMy confederation, dead a nation\\nExplode on detonation, overload the mind of a said patient\\nWhen it boils to steam, it comes to it\\nWe all fiends, gotta do it: even righteous minds go through this\\nTrue this, the streets school us to spend our money foolish\\nBond with jewelers and watch for intruders\\nI stepped it up another level, meditated like a Buddhist\\nRecruited lieutenants with ludicrous dreams of gettin' cream\\n\"Let's do this,\" it gets tedious\\nSo I keep one eye open like CBS — you see me stressed, right?\\n\\n[Chorus]\\nCan I live?\\nCan I live?\\nCan I live?\\nCan I live?</td>\n",
       "      <td>3</td>\n",
       "    </tr>\n",
       "    <tr>\n",
       "      <th>2</th>\n",
       "      <td>Forgive Me Father</td>\n",
       "      <td>Fabolous</td>\n",
       "      <td>2003</td>\n",
       "      <td>Maybe cause I'm eatin\\nAnd these bastards fiend for they grub\\nI carry pumps like I serve gasoline to these scrubs\\nHave you seen my Aston leanin on dubs\\nAnd they can't afford chrome so they puttin Vaseline on they hubs\\nI'm lookin for a girl with a ass like Trina to rub\\nTake home and let her watch the plasma screen in the tub\\nThese niggas hate I move as smooth as castor cream in the club\\nAnd dont pass my green or my bub\\nBut I'm a fly nigga that don't do much to pull her and dick her\\nEveryday I'm poppin a tag and pullin a sticker\\nEveryday I'm switchin the tags and pullin up sicker\\nEvery \"K\" I'm loadin the mags with bullets to flicker\\nAnd I ain't hesitatin homie I'm pullin it quicker\\nSo you can act tough After a few pulls of some liquor\\nGotta pull it on niggas\\nAnd they won't be goin nowhere for a while\\nThey might as well pull out a snicker Ye-Ye-Yea\\n\\n[Hook]\\nForgive me father for I have sinned\\nBut look at all this money that I spend\\nAnd look at all this jewlery that I'm in\\nAnd look at all the places that I've been\\nAnd look at all the women in those brims\\nLook at the blue flames that I'm in\\nI look at all the bullshit that theres been\\nAnd if I had another chance I'd do it again\\n[Verse 2]\\nAnywhere the kid move you know the hammers'll be with me\\nPokin out the shirt like a Pamela Lee titty\\nI went on tour brought the samples of D wit me\\nCame back a month later bought a Lambo for three-fifty\\nThink I throw you grams if you read with me\\nJust because you see me on the camera with P. Diddy\\nDammit we P-driddy?? Now I got G with me\\nAlong with the third leg that I be rammin in these bitties\\nI keep the revolver you hope my gun'll jam\\nBut with the scope its gonna blam\\nThe infra put freckles on your face like Opie Cunningham\\nThats why I'm watched by the Feds and scoped by Uncle Sam\\nDope and hunn-ed (hundred) grams rope and hunn-ed grams\\nAt the same time an artist get to open Summer Jam\\nHope you understand or use better sense\\nThese niggas dont want no beef they want lawsuit settlements Nigga!\\n\\n[Hook]\\n\\n[Verse 3]\\nI'm in a waggy when I'm passin by ya\\nWith a baby girl who suck harder than Maggie on a pacifier\\nWhat I'm smokin'll have you aggie as your last supplier\\nWhen you can smell it through the baggie you know that's some fire\\nGettin stressed by these hotties is regular\\nI got a magazine to press to your body like editors\\nTest me somebody I'm beggin ya\\nI got the gatling gun like Jesse The Body in Predator\\nI'm a hustler I dont sling no rocks to the fiends now\\nGot dudes who sit on corners like a boxer between rounds\\nAny other dude who dish rocks want beef\\nCause I chop dimes bigger than Chris Rock front teeth\\nI'm the nigga tearin the walls up in your miss in exchange for a small cup\\nOf the Cris\\nAnd while you at probation fillin a small cup full of piss\\nI'm in a coupe with a roof that ball up like a fist (Catch up!)</td>\n",
       "      <td>4</td>\n",
       "    </tr>\n",
       "    <tr>\n",
       "      <th>3</th>\n",
       "      <td>Down and Out</td>\n",
       "      <td>Cam'ron</td>\n",
       "      <td>2004</td>\n",
       "      <td>[Produced by Kanye West and Brian Miller]\\n\\n[Intro: Cam'ron &amp; Kanye West]\\nUgh, Killa!\\nBaby!\\nKanye, this that 1970s Heron flow, huh?\\nYeah, let's speed it up\\nUgh, I'm back in, ugh, ugh\\nThey don't know we finna kill the game this year\\nKilla! 'Ye! C'mon!\\n\\n[Verse 1: Cam'ron]\\nAyo, street mergers, I legislated; the nerve, I never hated\\nOn murders, premeditated—absurd! I hesitated\\nObserve: cock and spray, hit you from a block away\\nDrinking sake on a Suzuki; we in Osaka Bay\\nPlaying soccer, stupid, stay in a sucker's place\\nPluck your ace, take your girl, fuck her face\\nShe dealing with Killa, so you love her taste\\nShe swallowing Killa 'cause she love the taste\\nI got brought up with crooking, kitchen orders that I'm cooking\\nBut got caught up with the juxes\\nYou would've thought I was from Brooklyn\\nIt gets boring just looking\\nDid like Bill Cosby, pouring in the pudding\\nNow, the dashboard is wooden from a hard-tangled grammar\\nInterior, inferior; Star-Spangled Banner\\nCar game bananas, mob manning tanners\\nGuns everywhere, like the car came with hammers, he's back\\n[Chorus: Kanye West &amp; (Syleena Johnson)]\\nThey trying to say he (I'm down, down)\\nI hear niggas saying he (I'm down, but not out)\\nBut our flow is the truest (Oh), the game's in the nooses (No no)\\nOur girls is the models (Oh), they coochies the juiciest (Ooooh)\\nYeah, they say he (I'm down, down)\\nYeah, they say he (I'm down, but not out)\\n'Cause I'm back on my grind (Oh), money back on my mind (No no)\\nYe and Killa Cam, the world is mine (Oooh)\\n\\n[Verse 2: Cam'ron]\\nI treat bitches straight up, like Simon Says\\nOpen vagina; put your legs behind your head\\nCop me Air Ones, hon, lime and red\\nYou got pets? Me too: mines are dead, doggy\\nFox, minks, gators, that's necessary\\nAccessories, my closet's Pet Sematary\\nI get approached by animal activists\\nI live in a zoo, I run scandals with savages\\nAll my niggas get together to gather loot\\nBodyguard for what? Dog, I'd rather shoot\\nI go to war, old Timbs, battered boots\\nHand grenade, goggles and a parachute\\nY'all don't even know the name of my flip\\nIt was \"Touch Me, Tease Me\" when Case was the shit\\nYou don't know bout the cases I get:\\nCourt case, briefcase, suitcase, cases of Cris', oww!\\n[Chorus: Kanye West &amp; (Syleena Johnson)]\\nThey trying to say he (I'm down, down)\\nI hear niggas saying he (I'm down, but not out)\\nBut our flow is the truest (Oh), the game's in the nooses (No no)\\nOur girls is the models (Oh), they coochies the juiciest (Ooooh)\\nYeah, they say he (I'm down, down)\\nYeah, they say he (I'm down, but not out)\\n'Cause I'm back on my grind (Oh), money back on my mind (No no)\\nYe and Killa Cam, the world is mine (Oooh)\\n\\n[Verse 3: Cam'ron]\\nUgh, Killa, yo, yo, ayo—\\nYou dealing with some sure shit, my bitches pure thick\\nPlay razor tag, slice your face, you're it!\\nIt's I who come by, drive-thru\\nGator-toed Mauri, three quarters, sky-blue\\nLook at mami: eyes blue, 5'2''\\nI approached her—\"Hi, boo, how you?\\nPony skin Louie? Oh, you fly too\\nYou a stewardess? Good, ma—I fly too\"\\nNow, a nigga got baking to bake\\nHarlem shake? Nah, I'm in Harlem shaking the weight\\nShaking to bake, shaking the Jakes\\nKill you, shoot the funeral up and Harlem Shake at your wake\\nJust your picture, though; you still taped in a lake\\nI'm laughing; you couldn't wait to escape\\nFor anyone who owed the dough, I had to load the four\\nI hope a nigga heard when I said \"I told you so\"\\nUgh, Killa!\\n[Chorus: Kanye West &amp; (Syleena Johnson)]\\nThey trying to say he (I'm down, down)\\nI hear niggas saying he (I'm down, but not out)\\nBut our flow is the truest (Oh), the game's in the nooses (No no)\\nOur girls is the models (Oh), they coochies the juiciest (Ooooh)\\nYeah, they say he (I'm down, down)\\nYeah, they say he (I'm down, but not out)\\n'Cause I'm back on my grind (Oh), money back on my mind (No no)\\nYe and Killa Cam, the world is mine (Oooh)\\n\\n[Outro: Cam'ron]\\nMine! Killa!\\nYou already know Harlem\\nWhole Midwest, Detroit, Naptown, St. Louis\\nChicago, of course\\nWestside, holla at me\\nSouthside, wild hundreds\\nYou know what it is, Ohio\\nColumbus, holla at your boy\\nYou know what else I do:\\nDayton, Youngstown, Cleveland, Cincinnati</td>\n",
       "      <td>5</td>\n",
       "    </tr>\n",
       "    <tr>\n",
       "      <th>4</th>\n",
       "      <td>Fly In</td>\n",
       "      <td>Lil Wayne</td>\n",
       "      <td>2005</td>\n",
       "      <td>[Intro]\\nSo they ask me\\n\"Young boy\\nWhat you gon' do the second time around?\\nHow you gon' come back?\"\\nI tried told 'em\\n\"I come back like 32\\nI jump back like 33\"\\nUgh, hit me\\nThat's nothing\\nThis is Tha Carter II, people\\nThis is Tha Carter II, people\\nHey\\n\\n[Verse]\\nThey call me Mr. Carter, I kissed the daughter\\nOf the dead's forehead, I killed the father\\nSpilled the heart of a mildew hater\\nI will put them body on chill like glaciers, gracias\\nI'm crazy, yes, it's obvious\\nGoing against me is atheist\\nI got my angels on my shoulder and a quarter of that angel dust\\nI ain't sniffing, I'm just pitching, your honor\\nI ain't snitching, your honor\\nHate bitch niggas, bitches with power\\nVacate when that kitchen get hotter\\nI just sit on the counter\\nOpen the cabinet, close the cupboard\\nPut that jar in the skillet, drop a four in the bubbles\\nI remember being young, tryna hustle my dope\\nTryna tell the old junkies that my crack ain't soap\\nTryna tell you 'fore you jump that my MAC ain't broke\\nYou ain't tryna see how far that black back lane go, no\\nCall me Pac-Man, your ghost is blue\\nI got my Red River rubies and my ocean blue jewelry\\nUsually I'm a hooligan for the money\\nYeah, I'm eating, but I got a tapeworm in my tummy, oh\\nMake harm and I bomb you in public\\nHit you with the straight-arm, no warning, nothing\\nLook, it's morning, no yawning or nothing\\nI ain't sleeping, I'm up tryna take a nigga lunch\\nYou gon' make a nigga break a nigga fronts\\nThen shake a nigga shorts and we taking what we want\\nI'm so 504, you got to kill me here\\nIf you ever looking for me, bitch, I will be here\\nCash Money is an army, Navy Seal me here\\nLot of niggas ran from me, but I still be here\\nNo chrome on the Continental, I'm so fundamental\\nCrack the Phil', crack the roof, and roll up the windows\\nAnd my hood love me, they tell me bring it home\\nThat's why I holler Hollygrove on each and every song\\nYou leaping at a dog, a dog with no bark\\nJust a bite like an old shark\\nAnd all you rich niggas know Pa, I'm talking 'bout Stunna\\nHe like, \"Keep your dough,\" he got your ho\\nAnd the sun shines on the king and sets on the prince\\nI met the Birdman and I been shining ever since, like that</td>\n",
       "      <td>6</td>\n",
       "    </tr>\n",
       "  </tbody>\n",
       "</table>\n",
       "</div>"
      ],
      "text/plain": [
       "               title     artist  year  \\\n",
       "0          Killa Cam    Cam'ron  2004   \n",
       "1         Can I Live      JAY-Z  1996   \n",
       "2  Forgive Me Father   Fabolous  2003   \n",
       "3       Down and Out    Cam'ron  2004   \n",
       "4             Fly In  Lil Wayne  2005   \n",
       "\n",
       "                                                                                                                                                                                                                                                                                                                                                                                                                                                                                                                                                                                                                                                                                                                                                                                                                                                                                                                                                                                                                                                                                                                                                                                                                                                                                                                                                                                                                                                                                                                                                                                                                                                                                                                                                                                                                                                                                                                                                                                                                                                                                                                                                                                                                                                                                                                                                                                                                                                                                                                                                                                                                                                                                                                                                                                                                                                                                                                                                                                                                                                                                                                                                                                                                                                                                                                                                                                                                                                                                                                                                                                                                                                                                                                                                                                                                                                                                                                                                                                                                                                                                                                                                                                                                                                                                                                                                                                     lyrics  \\\n",
       "0                     [Chorus: Opera Steve & Cam'ron]\\nKilla Cam, Killa Cam, Cam\\nKilla Cam, Killa Cam\\nKilla Cam, Cam\\nKilla Cam, Killa Cam, Cam\\nKilla Killa Killa Cam\\nKilla Cam, Cam, Killa (Killa!)\\nKilla Cam, Killa Cam, Cam (Bases loaded)\\nKilla Cam, Killa Cam (Uh-huh)\\nKilla Cam, Cam (Santana on second, Jim on third)\\nKilla Cam, Killa Cam, Cam (I'm at bat)\\nKilla Killa Killa Cam\\nKilla Cam, Cam, Killa (I'm 'bout to hit this shit out the world)\\nKilla Cam (Ugh, Heatmakerz), Killa Cam, Cam\\nKilla Cam, Killa Cam\\nKilla Cam, Cam (Hahahaha)\\nKilla Cam, Killa Cam, Cam\\nKilla Killa Killa Cam\\nKilla Cam, Cam, Killa (We  make this shit clap)\\nKilla Cam, Killa Cam, Cam\\nKilla Cam, Killa Cam\\nKilla Cam, Cam\\nKilla Cam, Killa Cam, Cam\\nKilla Killa Killa Cam (Killa! Killa!)\\nKilla Cam, Cam, Killa\\n[Verse 1]\\nWith the goons I spar, stay in tune with ma (What up?)\\nShe like, \"Damn, this the realest since 'Kumbaya'\"\\nBomaye, Killa Cam, my Lord (My Lord)\\nStill the man with the pan, scrilla, fam, on board\\nNow bitches, they want to neuter me, niggas, they want to tutor me\\nThe hooligan in Houlihan's, maneuvering's nothing new to me\\nDoggy, I'm from the land of grind, pan-pan: gram or dime?\\nNot toes or MC when I say \"hammer time\"\\nBeef: I hammer mine, when I get my hands on nines\\nIf I had on 'Bama line, Corduroys, Cam'll shine\\nCanary burgundy: I call it \"Lemon Red\" (Red)\\nYellow diamonds in my ear, call 'em \"Lemonheads\"\\nLemonhead, end up dead, ice like Winnipeg\\nGemstone, Flintstones, you could say I'm friends with Fred\\nYou unhappy, scrappy? (What's going on, Scrappy?)\\nI got Pataki at me\\nBitches say I'm \"Tacky Daddy,\" Range look like Laffy Taffy\\n\\n[Chorus]\\nKilla Cam\\nKilla Cam Cam (sing)\\nKilla Cam Killa Cam\\nKilla Cam Cam (uhh, it's me, clap)\\nKilla Cam\\nKilla Cam Cam\\nKilla Killa Killa Cam (sing)\\nKilla Cam Cam Killa (uhh, it's me, clap)\\nKilla Cam\\nKilla Cam Cam (sing)\\nKilla Cam Killa Cam\\nKilla Cam Cam (clap, it's me)\\nKilla Cam\\nKilla Cam Cam\\nKilla Killa Killa Cam (clap)\\n(Harlem, I know y'all know about this)\\nKilla Cam Cam Killa (Killa!)\\n[Verse 2]\\nYo, I'm from where Nicky Barnes got rich as fuck\\nRich and A hit the kitchens then were pitchin' up\\nRob Base, Mase, Doug E Fresh switched it up\\nI do both, who am I to fuck tradition up? (Killa!)\\nSo I parked in a tow-away zone\\nChrome...I don't care\\nThat car a throwaway, homes (Killa!)\\nWelcome to Harlem, where you welcome to problems\\nOff of furlough, fellow felons get pardons\\nThem niggas knew we bang\\nStood out like Pootie Tang\\nSoon as the stoolie sings\\nThat when the toolie sing!\\nBang! Bang!\\nCame from that movie ring\\nSnap, crack jewelry bling\\nFlapjack, ooh he bring\\nClack-clack, \"ooh he ring!\"\\nBad rap, cuties cling\\nAss cap, put them in the river\\nI'm the sushi king\\nAnd I'ma keep ya fresh\\nLet the fish eat ya flesh\\nYes sir, please confess\\nJust say he's the best (Killa!)\\n[Chorus]\\nKilla Cam (sing)\\nKilla Cam Cam (clap)\\nKilla Cam Killa Cam (yes)\\nKilla Cam Cam (it's me, sing)\\nKilla Cam\\nKilla Cam Cam (sing)\\nKilla Killa Killa Cam\\nKilla Cam Cam Killa  (clap, yes sir, uhh)\\nKilla Cam\\nKilla Cam Cam (sing, clap)\\nKilla Cam Killa Cam\\nKilla Cam Cam (it's me)\\nKilla Cam (sing, clap)\\nKilla Cam Cam\\nKilla Killa Killa Cam\\n(Let me end this shit, listen)\\nKilla Cam Cam Killa\\n\\n[Verse 3]\\n(Killa!) Yo\\nHow dope is this?\\nTeach you how to rope a chick\\nWhat you want: coke or piff?\\nGot it all, smoke or sniff? (everything)\\nAnd you know my drift\\nUsed to figures, dough and shit (millions)\\nYou a rooster nigga, just a roaster, bitch\\nAnd I roast ya bitch\\nThat's how it usually ends\\nTell her and her groupie friends\\nGo get their coochie cleansed\\nWe the moody Gucci, Louis and Pucci men\\nEscada, Prada\\nThe chopper it got the Uzi lens\\nBird's-eye view\\nThe birds I knew flip birds\\nBird gangs, it was birds I flew\\nAnd word I blew off herb I grew\\nI would serve on stoops\\nNow swerve in coupes\\nIt's me, sing! Killa, uhh\\n\\n[Chorus]\\nKilla Cam\\nKilla Cam Cam\\nKilla Cam Killa Cam\\nKilla Cam Cam\\nKilla Cam\\nKilla Cam Cam\\nKilla Killa Killa Cam\\nKilla Cam Cam Killa\\nKilla Cam\\nKilla Cam Cam\\nKilla Cam Killa Cam\\nKilla Cam Cam\\nKilla Cam\\nKilla Cam Cam\\nKilla Killa Killa Cam\\nKilla Cam Cam Killa   \n",
       "1                                                                                                                                                                                                                                                                                                                                                                                                                                                                                                                                                                                                                                                                                                                                                                                                                                                                                                                                                                                                                                                                                                                                                                                                                                          [Produced by Irv Gotti]\\n\\n[Intro]\\nYeah, hah, yeah, Roc-A-Fella\\nWe invite you to somethin' epic, you know?\\nWell, we hustle out of a sense of hopelessness\\nSort of a desperation\\nThrough that desperation, we become addicted\\nSort of like the fiends we accustomed to servin'\\nBut we feel we have nothin' to lose\\nSo, we offer you, well, we offer our lives, right?\\nWhat do you bring to the table?\\n\\n[Verse 1]\\nWhile I'm watchin' every nigga watchin' me closely\\nMy shit is butter for the bread, they wanna toast me\\nI keep my head, both of them, where they supposed to be\\nHoes'll get you sidetracked, then clapped from close feet\\nI don't sleep, I'm tired, I feel wired like codeine, these days\\nA brother gotta admire me from four fiends away\\nMy pain, wish it was quick to see\\nFrom sellin' 'caine 'til brains was fried to a fricassee\\nCan't lie, at the time it never bothered me\\nAt the bar, gettin' my thug on properly\\nMy squad and me lack of respect for authority\\nLaughin' hard, happy to be escapin' poverty, however brief\\nI know this game got valleys and peaks\\nExpectation for dips, for precipitation we stack chips, hardly\\nThe youth I used to be, soon to see a mill'in\\nNo more Big Willie, my game has grown\\nPrefer you call me William\\nIllin' for revenues, Rayful Edmond-like\\nChannel 7 News, round seven jewels, head dead in the mic\\nForgettin' all I ever knew, convenient amnesia\\n\"I suggest you call my lawyer, I know the procedure.\"\\nLock my body, can't trap my mind\\nEasily explain why we adapt to crime\\nI'd rather die enormous than live dormant, that's how we on it\\nLive at the main event, I bet a trip to Maui on it\\nPresidential suites my residential for the weekend\\nConfidentially speakin' in codes since I sense you peekin'\\nThe NSX rental, don't be fooled, my game is mental\\nWe both out of town, dog, what you tryin' to get into?\\nViva Las Vegas, see ya later at the crap tables\\nMeet me by the one that starts a G up\\nThis way no Fraud Willies present gamblin' they re-up\\nAnd we can have a pleasant time, sippin' margaritas\\n[Chorus]\\nGe-ge-geyeahhh\\nCan I live?\\nCan I live?\\n\\n[Verse 2]\\nMy mind is infested with sick thoughts that circle\\nLike a Lexus, if driven wrong it's sure to hurt you\\nDual level like duplexes, in unity\\nMy crew and me commit atrocities like we got immunity\\nYou guessed it, manifest it\\nIn tangible goods, platinum Rolex'd it\\nWe don't lease, we buy the whole car, as you should\\nMy confederation, dead a nation\\nExplode on detonation, overload the mind of a said patient\\nWhen it boils to steam, it comes to it\\nWe all fiends, gotta do it: even righteous minds go through this\\nTrue this, the streets school us to spend our money foolish\\nBond with jewelers and watch for intruders\\nI stepped it up another level, meditated like a Buddhist\\nRecruited lieutenants with ludicrous dreams of gettin' cream\\n\"Let's do this,\" it gets tedious\\nSo I keep one eye open like CBS — you see me stressed, right?\\n\\n[Chorus]\\nCan I live?\\nCan I live?\\nCan I live?\\nCan I live?   \n",
       "2                                                                                                                                                                                                                                                                                                                                                                                                                                                                                                                                                                                                                                                                                                                                                                                                                                                                                                                                                                                                                                                                                                                                                                                                                                                                                                                                                                     Maybe cause I'm eatin\\nAnd these bastards fiend for they grub\\nI carry pumps like I serve gasoline to these scrubs\\nHave you seen my Aston leanin on dubs\\nAnd they can't afford chrome so they puttin Vaseline on they hubs\\nI'm lookin for a girl with a ass like Trina to rub\\nTake home and let her watch the plasma screen in the tub\\nThese niggas hate I move as smooth as castor cream in the club\\nAnd dont pass my green or my bub\\nBut I'm a fly nigga that don't do much to pull her and dick her\\nEveryday I'm poppin a tag and pullin a sticker\\nEveryday I'm switchin the tags and pullin up sicker\\nEvery \"K\" I'm loadin the mags with bullets to flicker\\nAnd I ain't hesitatin homie I'm pullin it quicker\\nSo you can act tough After a few pulls of some liquor\\nGotta pull it on niggas\\nAnd they won't be goin nowhere for a while\\nThey might as well pull out a snicker Ye-Ye-Yea\\n\\n[Hook]\\nForgive me father for I have sinned\\nBut look at all this money that I spend\\nAnd look at all this jewlery that I'm in\\nAnd look at all the places that I've been\\nAnd look at all the women in those brims\\nLook at the blue flames that I'm in\\nI look at all the bullshit that theres been\\nAnd if I had another chance I'd do it again\\n[Verse 2]\\nAnywhere the kid move you know the hammers'll be with me\\nPokin out the shirt like a Pamela Lee titty\\nI went on tour brought the samples of D wit me\\nCame back a month later bought a Lambo for three-fifty\\nThink I throw you grams if you read with me\\nJust because you see me on the camera with P. Diddy\\nDammit we P-driddy?? Now I got G with me\\nAlong with the third leg that I be rammin in these bitties\\nI keep the revolver you hope my gun'll jam\\nBut with the scope its gonna blam\\nThe infra put freckles on your face like Opie Cunningham\\nThats why I'm watched by the Feds and scoped by Uncle Sam\\nDope and hunn-ed (hundred) grams rope and hunn-ed grams\\nAt the same time an artist get to open Summer Jam\\nHope you understand or use better sense\\nThese niggas dont want no beef they want lawsuit settlements Nigga!\\n\\n[Hook]\\n\\n[Verse 3]\\nI'm in a waggy when I'm passin by ya\\nWith a baby girl who suck harder than Maggie on a pacifier\\nWhat I'm smokin'll have you aggie as your last supplier\\nWhen you can smell it through the baggie you know that's some fire\\nGettin stressed by these hotties is regular\\nI got a magazine to press to your body like editors\\nTest me somebody I'm beggin ya\\nI got the gatling gun like Jesse The Body in Predator\\nI'm a hustler I dont sling no rocks to the fiends now\\nGot dudes who sit on corners like a boxer between rounds\\nAny other dude who dish rocks want beef\\nCause I chop dimes bigger than Chris Rock front teeth\\nI'm the nigga tearin the walls up in your miss in exchange for a small cup\\nOf the Cris\\nAnd while you at probation fillin a small cup full of piss\\nI'm in a coupe with a roof that ball up like a fist (Catch up!)   \n",
       "3  [Produced by Kanye West and Brian Miller]\\n\\n[Intro: Cam'ron & Kanye West]\\nUgh, Killa!\\nBaby!\\nKanye, this that 1970s Heron flow, huh?\\nYeah, let's speed it up\\nUgh, I'm back in, ugh, ugh\\nThey don't know we finna kill the game this year\\nKilla! 'Ye! C'mon!\\n\\n[Verse 1: Cam'ron]\\nAyo, street mergers, I legislated; the nerve, I never hated\\nOn murders, premeditated—absurd! I hesitated\\nObserve: cock and spray, hit you from a block away\\nDrinking sake on a Suzuki; we in Osaka Bay\\nPlaying soccer, stupid, stay in a sucker's place\\nPluck your ace, take your girl, fuck her face\\nShe dealing with Killa, so you love her taste\\nShe swallowing Killa 'cause she love the taste\\nI got brought up with crooking, kitchen orders that I'm cooking\\nBut got caught up with the juxes\\nYou would've thought I was from Brooklyn\\nIt gets boring just looking\\nDid like Bill Cosby, pouring in the pudding\\nNow, the dashboard is wooden from a hard-tangled grammar\\nInterior, inferior; Star-Spangled Banner\\nCar game bananas, mob manning tanners\\nGuns everywhere, like the car came with hammers, he's back\\n[Chorus: Kanye West & (Syleena Johnson)]\\nThey trying to say he (I'm down, down)\\nI hear niggas saying he (I'm down, but not out)\\nBut our flow is the truest (Oh), the game's in the nooses (No no)\\nOur girls is the models (Oh), they coochies the juiciest (Ooooh)\\nYeah, they say he (I'm down, down)\\nYeah, they say he (I'm down, but not out)\\n'Cause I'm back on my grind (Oh), money back on my mind (No no)\\nYe and Killa Cam, the world is mine (Oooh)\\n\\n[Verse 2: Cam'ron]\\nI treat bitches straight up, like Simon Says\\nOpen vagina; put your legs behind your head\\nCop me Air Ones, hon, lime and red\\nYou got pets? Me too: mines are dead, doggy\\nFox, minks, gators, that's necessary\\nAccessories, my closet's Pet Sematary\\nI get approached by animal activists\\nI live in a zoo, I run scandals with savages\\nAll my niggas get together to gather loot\\nBodyguard for what? Dog, I'd rather shoot\\nI go to war, old Timbs, battered boots\\nHand grenade, goggles and a parachute\\nY'all don't even know the name of my flip\\nIt was \"Touch Me, Tease Me\" when Case was the shit\\nYou don't know bout the cases I get:\\nCourt case, briefcase, suitcase, cases of Cris', oww!\\n[Chorus: Kanye West & (Syleena Johnson)]\\nThey trying to say he (I'm down, down)\\nI hear niggas saying he (I'm down, but not out)\\nBut our flow is the truest (Oh), the game's in the nooses (No no)\\nOur girls is the models (Oh), they coochies the juiciest (Ooooh)\\nYeah, they say he (I'm down, down)\\nYeah, they say he (I'm down, but not out)\\n'Cause I'm back on my grind (Oh), money back on my mind (No no)\\nYe and Killa Cam, the world is mine (Oooh)\\n\\n[Verse 3: Cam'ron]\\nUgh, Killa, yo, yo, ayo—\\nYou dealing with some sure shit, my bitches pure thick\\nPlay razor tag, slice your face, you're it!\\nIt's I who come by, drive-thru\\nGator-toed Mauri, three quarters, sky-blue\\nLook at mami: eyes blue, 5'2''\\nI approached her—\"Hi, boo, how you?\\nPony skin Louie? Oh, you fly too\\nYou a stewardess? Good, ma—I fly too\"\\nNow, a nigga got baking to bake\\nHarlem shake? Nah, I'm in Harlem shaking the weight\\nShaking to bake, shaking the Jakes\\nKill you, shoot the funeral up and Harlem Shake at your wake\\nJust your picture, though; you still taped in a lake\\nI'm laughing; you couldn't wait to escape\\nFor anyone who owed the dough, I had to load the four\\nI hope a nigga heard when I said \"I told you so\"\\nUgh, Killa!\\n[Chorus: Kanye West & (Syleena Johnson)]\\nThey trying to say he (I'm down, down)\\nI hear niggas saying he (I'm down, but not out)\\nBut our flow is the truest (Oh), the game's in the nooses (No no)\\nOur girls is the models (Oh), they coochies the juiciest (Ooooh)\\nYeah, they say he (I'm down, down)\\nYeah, they say he (I'm down, but not out)\\n'Cause I'm back on my grind (Oh), money back on my mind (No no)\\nYe and Killa Cam, the world is mine (Oooh)\\n\\n[Outro: Cam'ron]\\nMine! Killa!\\nYou already know Harlem\\nWhole Midwest, Detroit, Naptown, St. Louis\\nChicago, of course\\nWestside, holla at me\\nSouthside, wild hundreds\\nYou know what it is, Ohio\\nColumbus, holla at your boy\\nYou know what else I do:\\nDayton, Youngstown, Cleveland, Cincinnati   \n",
       "4                                                                                                                                                                                                                                                                                                                                                                                                                                                                                                                                                                                                                                                                                                                                                                                                                                                                                                                                                                                                                                                                                                                                                                                                                                                                                                                                                                                                                                                                                                                                                                                                                                                                                                                                                                                                                                                                                                                                                                                                                                                                                    [Intro]\\nSo they ask me\\n\"Young boy\\nWhat you gon' do the second time around?\\nHow you gon' come back?\"\\nI tried told 'em\\n\"I come back like 32\\nI jump back like 33\"\\nUgh, hit me\\nThat's nothing\\nThis is Tha Carter II, people\\nThis is Tha Carter II, people\\nHey\\n\\n[Verse]\\nThey call me Mr. Carter, I kissed the daughter\\nOf the dead's forehead, I killed the father\\nSpilled the heart of a mildew hater\\nI will put them body on chill like glaciers, gracias\\nI'm crazy, yes, it's obvious\\nGoing against me is atheist\\nI got my angels on my shoulder and a quarter of that angel dust\\nI ain't sniffing, I'm just pitching, your honor\\nI ain't snitching, your honor\\nHate bitch niggas, bitches with power\\nVacate when that kitchen get hotter\\nI just sit on the counter\\nOpen the cabinet, close the cupboard\\nPut that jar in the skillet, drop a four in the bubbles\\nI remember being young, tryna hustle my dope\\nTryna tell the old junkies that my crack ain't soap\\nTryna tell you 'fore you jump that my MAC ain't broke\\nYou ain't tryna see how far that black back lane go, no\\nCall me Pac-Man, your ghost is blue\\nI got my Red River rubies and my ocean blue jewelry\\nUsually I'm a hooligan for the money\\nYeah, I'm eating, but I got a tapeworm in my tummy, oh\\nMake harm and I bomb you in public\\nHit you with the straight-arm, no warning, nothing\\nLook, it's morning, no yawning or nothing\\nI ain't sleeping, I'm up tryna take a nigga lunch\\nYou gon' make a nigga break a nigga fronts\\nThen shake a nigga shorts and we taking what we want\\nI'm so 504, you got to kill me here\\nIf you ever looking for me, bitch, I will be here\\nCash Money is an army, Navy Seal me here\\nLot of niggas ran from me, but I still be here\\nNo chrome on the Continental, I'm so fundamental\\nCrack the Phil', crack the roof, and roll up the windows\\nAnd my hood love me, they tell me bring it home\\nThat's why I holler Hollygrove on each and every song\\nYou leaping at a dog, a dog with no bark\\nJust a bite like an old shark\\nAnd all you rich niggas know Pa, I'm talking 'bout Stunna\\nHe like, \"Keep your dough,\" he got your ho\\nAnd the sun shines on the king and sets on the prince\\nI met the Birdman and I been shining ever since, like that   \n",
       "\n",
       "   id  \n",
       "0   1  \n",
       "1   3  \n",
       "2   4  \n",
       "3   5  \n",
       "4   6  "
      ]
     },
     "execution_count": 9,
     "metadata": {},
     "output_type": "execute_result"
    }
   ],
   "source": [
    "df_cleaned.head(5)"
   ]
  },
  {
   "cell_type": "markdown",
   "metadata": {},
   "source": [
    "Let's define a function to clean the lyrics text a little more. This function removes annotations within brackets, standardizes apostrophes and quotation marks, removes special characters, and converts text to lowercase. Apply this function to the 'lyrics' column of the cleaned DataFrame."
   ]
  },
  {
   "cell_type": "code",
   "execution_count": null,
   "metadata": {},
   "outputs": [],
   "source": [
    "def clean_lyrics(text):\n",
    "    # Remove bracketed text e.g., [Chorus], [Verse 1]\n",
    "    text = re.sub(r'\\[.*?\\]', '', text)\n",
    "    # Replace curly apostrophes and quotes with straight ones\n",
    "    text = re.sub(r'[‘’“”]', \"'\", text)\n",
    "    # Lowercase the text\n",
    "    text = text.lower()\n",
    "    # Remove special characters, keeping only words, apostrophes, and basic punctuation\n",
    "    text = re.sub(r'[^a-z0-9 ,.!?\\'\"]', '', text)\n",
    "    # Replace newlines and multiple spaces with a single space\n",
    "    text = re.sub(r'\\s+', ' ', text).strip()\n",
    "    return text\n"
   ]
  },
  {
   "cell_type": "code",
   "execution_count": null,
   "metadata": {},
   "outputs": [],
   "source": [
    "df_cleaned['lyrics'] = df_cleaned['lyrics'].apply(clean_lyrics)"
   ]
  },
  {
   "cell_type": "markdown",
   "metadata": {},
   "source": [
    "Saving the current data progress"
   ]
  },
  {
   "cell_type": "code",
   "execution_count": null,
   "metadata": {},
   "outputs": [],
   "source": [
    "df_cleaned.to_csv('current.csv', index=False)\n"
   ]
  },
  {
   "cell_type": "code",
   "execution_count": 3,
   "metadata": {},
   "outputs": [],
   "source": [
    "df_cleaned = pd.read_csv('./data/current.csv')"
   ]
  },
  {
   "cell_type": "code",
   "execution_count": 4,
   "metadata": {},
   "outputs": [
    {
     "name": "stdout",
     "output_type": "stream",
     "text": [
      "['killa cam, killa cam, camkilla cam, killa camkilla cam, camkilla cam, killa cam, camkilla killa killa camkilla cam, cam, killa killa!killa cam, killa cam, cam bases loadedkilla cam, killa cam uhhuhkilla cam, cam santana on second, jim on thirdkilla cam, killa cam, cam i\\'m at batkilla killa killa camkilla cam, cam, killa i\\'m \\'bout to hit this shit out the worldkilla cam ugh, heatmakerz, killa cam, camkilla cam, killa camkilla cam, cam hahahahakilla cam, killa cam, camkilla killa killa camkilla cam, cam, killa we make this shit clapkilla cam, killa cam, camkilla cam, killa camkilla cam, camkilla cam, killa cam, camkilla killa killa cam killa! killa!killa cam, cam, killawith the goons i spar, stay in tune with ma what up?she like, \"damn, this the realest since \\'kumbaya\\'\"bomaye, killa cam, my lord my lordstill the man with the pan, scrilla, fam, on boardnow bitches, they want to neuter me, niggas, they want to tutor methe hooligan in houlihan\\'s, maneuvering\\'s nothing new to medoggy, i\\'m from the land of grind, panpan gram or dime?not toes or mc when i say \"hammer time\"beef i hammer mine, when i get my hands on ninesif i had on \\'bama line, corduroys, cam\\'ll shinecanary burgundy i call it \"lemon red\" redyellow diamonds in my ear, call \\'em \"lemonheads\"lemonhead, end up dead, ice like winnipeggemstone, flintstones, you could say i\\'m friends with fredyou unhappy, scrappy? what\\'s going on, scrappy?i got pataki at mebitches say i\\'m \"tacky daddy,\" range look like laffy taffykilla camkilla cam cam singkilla cam killa camkilla cam cam uhh, it\\'s me, clapkilla camkilla cam camkilla killa killa cam singkilla cam cam killa uhh, it\\'s me, clapkilla camkilla cam cam singkilla cam killa camkilla cam cam clap, it\\'s mekilla camkilla cam camkilla killa killa cam clapharlem, i know y\\'all know about thiskilla cam cam killa killa!yo, i\\'m from where nicky barnes got rich as fuckrich and a hit the kitchens then were pitchin\\' uprob base, mase, doug e fresh switched it upi do both, who am i to fuck tradition up? killa!so i parked in a towaway zonechrome...i don\\'t carethat car a throwaway, homes killa!welcome to harlem, where you welcome to problemsoff of furlough, fellow felons get pardonsthem niggas knew we bangstood out like pootie tangsoon as the stoolie singsthat when the toolie sing!bang! bang!came from that movie ringsnap, crack jewelry blingflapjack, ooh he bringclackclack, \"ooh he ring!\"bad rap, cuties clingass cap, put them in the riveri\\'m the sushi kingand i\\'ma keep ya freshlet the fish eat ya fleshyes sir, please confessjust say he\\'s the best killa!killa cam singkilla cam cam clapkilla cam killa cam yeskilla cam cam it\\'s me, singkilla camkilla cam cam singkilla killa killa camkilla cam cam killa clap, yes sir, uhhkilla camkilla cam cam sing, clapkilla cam killa camkilla cam cam it\\'s mekilla cam sing, clapkilla cam camkilla killa killa camlet me end this shit, listenkilla cam cam killakilla! yohow dope is this?teach you how to rope a chickwhat you want coke or piff?got it all, smoke or sniff? everythingand you know my driftused to figures, dough and shit millionsyou a rooster nigga, just a roaster, bitchand i roast ya bitchthat\\'s how it usually endstell her and her groupie friendsgo get their coochie cleansedwe the moody gucci, louis and pucci menescada, pradathe chopper it got the uzi lensbird\\'seye viewthe birds i knew flip birdsbird gangs, it was birds i flewand word i blew off herb i grewi would serve on stoopsnow swerve in coupesit\\'s me, sing! killa, uhhkilla camkilla cam camkilla cam killa camkilla cam camkilla camkilla cam camkilla killa killa camkilla cam cam killakilla camkilla cam camkilla cam killa camkilla cam camkilla camkilla cam camkilla killa killa camkilla cam cam killa', 'yeah, hah, yeah, rocafellawe invite you to somethin\\' epic, you know?well, we hustle out of a sense of hopelessnesssort of a desperationthrough that desperation, we become addictedsort of like the fiends we accustomed to servin\\'but we feel we have nothin\\' to loseso, we offer you, well, we offer our lives, right?what do you bring to the table?while i\\'m watchin\\' every nigga watchin\\' me closelymy shit is butter for the bread, they wanna toast mei keep my head, both of them, where they supposed to behoes\\'ll get you sidetracked, then clapped from close feeti don\\'t sleep, i\\'m tired, i feel wired like codeine, these daysa brother gotta admire me from four fiends awaymy pain, wish it was quick to seefrom sellin\\' \\'caine \\'til brains was fried to a fricasseecan\\'t lie, at the time it never bothered meat the bar, gettin\\' my thug on properlymy squad and me lack of respect for authoritylaughin\\' hard, happy to be escapin\\' poverty, however briefi know this game got valleys and peaksexpectation for dips, for precipitation we stack chips, hardlythe youth i used to be, soon to see a mill\\'inno more big willie, my game has grownprefer you call me williamillin\\' for revenues, rayful edmondlikechannel 7 news, round seven jewels, head dead in the micforgettin\\' all i ever knew, convenient amnesia\"i suggest you call my lawyer, i know the procedure.\"lock my body, can\\'t trap my mindeasily explain why we adapt to crimei\\'d rather die enormous than live dormant, that\\'s how we on itlive at the main event, i bet a trip to maui on itpresidential suites my residential for the weekendconfidentially speakin\\' in codes since i sense you peekin\\'the nsx rental, don\\'t be fooled, my game is mentalwe both out of town, dog, what you tryin\\' to get into?viva las vegas, see ya later at the crap tablesmeet me by the one that starts a g upthis way no fraud willies present gamblin\\' they reupand we can have a pleasant time, sippin\\' margaritasgegegeyeahhhcan i live?can i live?my mind is infested with sick thoughts that circlelike a lexus, if driven wrong it\\'s sure to hurt youdual level like duplexes, in unitymy crew and me commit atrocities like we got immunityyou guessed it, manifest itin tangible goods, platinum rolex\\'d itwe don\\'t lease, we buy the whole car, as you shouldmy confederation, dead a nationexplode on detonation, overload the mind of a said patientwhen it boils to steam, it comes to itwe all fiends, gotta do it even righteous minds go through thistrue this, the streets school us to spend our money foolishbond with jewelers and watch for intrudersi stepped it up another level, meditated like a buddhistrecruited lieutenants with ludicrous dreams of gettin\\' cream\"let\\'s do this,\" it gets tediousso i keep one eye open like cbs you see me stressed, right?can i live?can i live?can i live?can i live?', 'maybe cause i\\'m eatinand these bastards fiend for they grubi carry pumps like i serve gasoline to these scrubshave you seen my aston leanin on dubsand they can\\'t afford chrome so they puttin vaseline on they hubsi\\'m lookin for a girl with a ass like trina to rubtake home and let her watch the plasma screen in the tubthese niggas hate i move as smooth as castor cream in the cluband dont pass my green or my bubbut i\\'m a fly nigga that don\\'t do much to pull her and dick hereveryday i\\'m poppin a tag and pullin a stickereveryday i\\'m switchin the tags and pullin up sickerevery \"k\" i\\'m loadin the mags with bullets to flickerand i ain\\'t hesitatin homie i\\'m pullin it quickerso you can act tough after a few pulls of some liquorgotta pull it on niggasand they won\\'t be goin nowhere for a whilethey might as well pull out a snicker yeyeyeaforgive me father for i have sinnedbut look at all this money that i spendand look at all this jewlery that i\\'m inand look at all the places that i\\'ve beenand look at all the women in those brimslook at the blue flames that i\\'m ini look at all the bullshit that theres beenand if i had another chance i\\'d do it againanywhere the kid move you know the hammers\\'ll be with mepokin out the shirt like a pamela lee tittyi went on tour brought the samples of d wit mecame back a month later bought a lambo for threefiftythink i throw you grams if you read with mejust because you see me on the camera with p. diddydammit we pdriddy?? now i got g with mealong with the third leg that i be rammin in these bittiesi keep the revolver you hope my gun\\'ll jambut with the scope its gonna blamthe infra put freckles on your face like opie cunninghamthats why i\\'m watched by the feds and scoped by uncle samdope and hunned hundred grams rope and hunned gramsat the same time an artist get to open summer jamhope you understand or use better sensethese niggas dont want no beef they want lawsuit settlements nigga!i\\'m in a waggy when i\\'m passin by yawith a baby girl who suck harder than maggie on a pacifierwhat i\\'m smokin\\'ll have you aggie as your last supplierwhen you can smell it through the baggie you know that\\'s some firegettin stressed by these hotties is regulari got a magazine to press to your body like editorstest me somebody i\\'m beggin yai got the gatling gun like jesse the body in predatori\\'m a hustler i dont sling no rocks to the fiends nowgot dudes who sit on corners like a boxer between roundsany other dude who dish rocks want beefcause i chop dimes bigger than chris rock front teethi\\'m the nigga tearin the walls up in your miss in exchange for a small cupof the crisand while you at probation fillin a small cup full of pissi\\'m in a coupe with a roof that ball up like a fist catch up!', 'ugh, killa!baby!kanye, this that 1970s heron flow, huh?yeah, let\\'s speed it upugh, i\\'m back in, ugh, ughthey don\\'t know we finna kill the game this yearkilla! \\'ye! c\\'mon!ayo, street mergers, i legislated the nerve, i never hatedon murders, premeditatedabsurd! i hesitatedobserve cock and spray, hit you from a block awaydrinking sake on a suzuki we in osaka bayplaying soccer, stupid, stay in a sucker\\'s placepluck your ace, take your girl, fuck her faceshe dealing with killa, so you love her tasteshe swallowing killa \\'cause she love the tastei got brought up with crooking, kitchen orders that i\\'m cookingbut got caught up with the juxesyou would\\'ve thought i was from brooklynit gets boring just lookingdid like bill cosby, pouring in the puddingnow, the dashboard is wooden from a hardtangled grammarinterior, inferior starspangled bannercar game bananas, mob manning tannersguns everywhere, like the car came with hammers, he\\'s backthey trying to say he i\\'m down, downi hear niggas saying he i\\'m down, but not outbut our flow is the truest oh, the game\\'s in the nooses no noour girls is the models oh, they coochies the juiciest oooohyeah, they say he i\\'m down, downyeah, they say he i\\'m down, but not out\\'cause i\\'m back on my grind oh, money back on my mind no noye and killa cam, the world is mine ooohi treat bitches straight up, like simon saysopen vagina put your legs behind your headcop me air ones, hon, lime and redyou got pets? me too mines are dead, doggyfox, minks, gators, that\\'s necessaryaccessories, my closet\\'s pet semataryi get approached by animal activistsi live in a zoo, i run scandals with savagesall my niggas get together to gather lootbodyguard for what? dog, i\\'d rather shooti go to war, old timbs, battered bootshand grenade, goggles and a parachutey\\'all don\\'t even know the name of my flipit was \"touch me, tease me\" when case was the shityou don\\'t know bout the cases i getcourt case, briefcase, suitcase, cases of cris\\', oww!they trying to say he i\\'m down, downi hear niggas saying he i\\'m down, but not outbut our flow is the truest oh, the game\\'s in the nooses no noour girls is the models oh, they coochies the juiciest oooohyeah, they say he i\\'m down, downyeah, they say he i\\'m down, but not out\\'cause i\\'m back on my grind oh, money back on my mind no noye and killa cam, the world is mine ooohugh, killa, yo, yo, ayoyou dealing with some sure shit, my bitches pure thickplay razor tag, slice your face, you\\'re it!it\\'s i who come by, drivethrugatortoed mauri, three quarters, skybluelook at mami eyes blue, 5\\'2\\'\\'i approached her\"hi, boo, how you?pony skin louie? oh, you fly tooyou a stewardess? good, mai fly too\"now, a nigga got baking to bakeharlem shake? nah, i\\'m in harlem shaking the weightshaking to bake, shaking the jakeskill you, shoot the funeral up and harlem shake at your wakejust your picture, though you still taped in a lakei\\'m laughing you couldn\\'t wait to escapefor anyone who owed the dough, i had to load the fouri hope a nigga heard when i said \"i told you so\"ugh, killa!they trying to say he i\\'m down, downi hear niggas saying he i\\'m down, but not outbut our flow is the truest oh, the game\\'s in the nooses no noour girls is the models oh, they coochies the juiciest oooohyeah, they say he i\\'m down, downyeah, they say he i\\'m down, but not out\\'cause i\\'m back on my grind oh, money back on my mind no noye and killa cam, the world is mine ooohmine! killa!you already know harlemwhole midwest, detroit, naptown, st. louischicago, of coursewestside, holla at mesouthside, wild hundredsyou know what it is, ohiocolumbus, holla at your boyyou know what else i dodayton, youngstown, cleveland, cincinnati', 'so they ask me\"young boywhat you gon\\' do the second time around?how you gon\\' come back?\"i tried told \\'em\"i come back like 32i jump back like 33\"ugh, hit methat\\'s nothingthis is tha carter ii, peoplethis is tha carter ii, peopleheythey call me mr. carter, i kissed the daughterof the dead\\'s forehead, i killed the fatherspilled the heart of a mildew hateri will put them body on chill like glaciers, graciasi\\'m crazy, yes, it\\'s obviousgoing against me is atheisti got my angels on my shoulder and a quarter of that angel dusti ain\\'t sniffing, i\\'m just pitching, your honori ain\\'t snitching, your honorhate bitch niggas, bitches with powervacate when that kitchen get hotteri just sit on the counteropen the cabinet, close the cupboardput that jar in the skillet, drop a four in the bubblesi remember being young, tryna hustle my dopetryna tell the old junkies that my crack ain\\'t soaptryna tell you \\'fore you jump that my mac ain\\'t brokeyou ain\\'t tryna see how far that black back lane go, nocall me pacman, your ghost is bluei got my red river rubies and my ocean blue jewelryusually i\\'m a hooligan for the moneyyeah, i\\'m eating, but i got a tapeworm in my tummy, ohmake harm and i bomb you in publichit you with the straightarm, no warning, nothinglook, it\\'s morning, no yawning or nothingi ain\\'t sleeping, i\\'m up tryna take a nigga lunchyou gon\\' make a nigga break a nigga frontsthen shake a nigga shorts and we taking what we wanti\\'m so 504, you got to kill me hereif you ever looking for me, bitch, i will be herecash money is an army, navy seal me herelot of niggas ran from me, but i still be hereno chrome on the continental, i\\'m so fundamentalcrack the phil\\', crack the roof, and roll up the windowsand my hood love me, they tell me bring it homethat\\'s why i holler hollygrove on each and every songyou leaping at a dog, a dog with no barkjust a bite like an old sharkand all you rich niggas know pa, i\\'m talking \\'bout stunnahe like, \"keep your dough,\" he got your hoand the sun shines on the king and sets on the princei met the birdman and i been shining ever since, like that']\n"
     ]
    }
   ],
   "source": [
    "lyrics_data = df_cleaned['lyrics'].tolist()  \n",
    "print(lyrics_data[:5])"
   ]
  },
  {
   "cell_type": "markdown",
   "metadata": {},
   "source": [
    "## Tokenization and Data Preparation\n",
    "This code initializes the tokenizer for the GPT-2 model, sets the padding token, and specifies the maximum sequence length. It cleans the data by ensuring all lyrics are strings and not None, then tokenizes a subset of the cleaned lyrics data, preparing it for model input"
   ]
  },
  {
   "cell_type": "code",
   "execution_count": 5,
   "metadata": {},
   "outputs": [],
   "source": [
    "tokenizer = GPT2Tokenizer.from_pretrained(\"distilgpt2\")\n",
    "tokenizer.pad_token = tokenizer.eos_token\n",
    "max_length = 800\n",
    "\n",
    "# Convert all elements to strings (handling potential non-string types)\n",
    "lyrics_data_cleaned = [str(lyric) for lyric in lyrics_data if lyric is not None]\n",
    "\n",
    "# Retry tokenization with the cleaned data\n",
    "encoded_inputs = tokenizer(lyrics_data_cleaned[:100000], max_length=max_length, truncation=True, padding=\"max_length\", return_tensors=\"tf\")\n"
   ]
  },
  {
   "cell_type": "markdown",
   "metadata": {},
   "source": [
    "## TensorFlow Dataset Creation\n",
    "Converts the tokenized input_ids and attention_masks into TensorFlow datasets. This dataset is then shuffled and batched, ready for training. It uses input_ids as labels for language modeling, a common approach in next-token prediction tasks.\n"
   ]
  },
  {
   "cell_type": "code",
   "execution_count": 6,
   "metadata": {},
   "outputs": [],
   "source": [
    "input_ids = encoded_inputs[\"input_ids\"]\n",
    "attention_masks = encoded_inputs[\"attention_mask\"]\n",
    "\n",
    "\n",
    "input_ids = tf.concat(input_ids, 0)\n",
    "attention_masks = tf.concat(attention_masks, 0)\n",
    "\n",
    "# Prepare the dataset\n",
    "dataset = tf.data.Dataset.from_tensor_slices((\n",
    "    {\"input_ids\": input_ids, \"attention_mask\": attention_masks}, \n",
    "    input_ids \n",
    "))\n",
    "\n",
    "batch_size = 4\n",
    "dataset = dataset.shuffle(10000).batch(batch_size, drop_remainder=True)"
   ]
  },
  {
   "cell_type": "markdown",
   "metadata": {},
   "source": [
    "## Model Definition and Initialization\n",
    "Defines a custom GPT-2 model class with added dropout and dense layers for potential regularization and output transformation. The model is instantiated with the distilgpt2 configuration, and the dataset creation steps are repeated here, likely by mistake or for clarity.\n"
   ]
  },
  {
   "cell_type": "code",
   "execution_count": 7,
   "metadata": {},
   "outputs": [
    {
     "name": "stdout",
     "output_type": "stream",
     "text": [
      "WARNING:tensorflow:From d:\\stuff\\Papers (1) (1)\\mynewenv\\lib\\site-packages\\keras\\src\\backend.py:873: The name tf.get_default_graph is deprecated. Please use tf.compat.v1.get_default_graph instead.\n",
      "\n",
      "WARNING:tensorflow:From d:\\stuff\\Papers (1) (1)\\mynewenv\\lib\\site-packages\\keras\\src\\optimizers\\__init__.py:309: The name tf.train.Optimizer is deprecated. Please use tf.compat.v1.train.Optimizer instead.\n",
      "\n",
      "Model: \"gpt2_custom_model\"\n",
      "_________________________________________________________________\n",
      " Layer (type)                Output Shape              Param #   \n",
      "=================================================================\n",
      " tfgpt2_model (TFGPT2Model)  multiple                  81912576  \n",
      "                                                                 \n",
      " dropout_19 (Dropout)        multiple                  0         \n",
      "                                                                 \n",
      " dense (Dense)               multiple                  393728    \n",
      "                                                                 \n",
      " dropout_20 (Dropout)        multiple                  0         \n",
      "                                                                 \n",
      " dense_1 (Dense)             multiple                  25781841  \n",
      "                                                                 \n",
      "=================================================================\n",
      "Total params: 108088145 (412.32 MB)\n",
      "Trainable params: 108088145 (412.32 MB)\n",
      "Non-trainable params: 0 (0.00 Byte)\n",
      "_________________________________________________________________\n"
     ]
    }
   ],
   "source": [
    "config = GPT2Config.from_pretrained(\"distilgpt2\")\n",
    "\n",
    "class GPT2CustomModel(tf.keras.Model):\n",
    "    def __init__(self, config):\n",
    "        super(GPT2CustomModel, self).__init__()\n",
    "        self.gpt2 = TFGPT2Model(config)\n",
    "        self.dropout1 = tf.keras.layers.Dropout(0.1)  # Add dropout layer for regularization\n",
    "        self.dense1 = tf.keras.layers.Dense(512, activation='relu')\n",
    "        self.dropout2 = tf.keras.layers.Dropout(0.1)\n",
    "        self.dense2 = tf.keras.layers.Dense(config.vocab_size, activation='softmax')\n",
    "\n",
    "    def call(self, inputs, attention_mask=None, training=False):\n",
    "        outputs = self.gpt2(inputs, attention_mask=attention_mask)[0]\n",
    "        outputs = self.dropout1(outputs, training=training)\n",
    "        outputs = self.dense1(outputs)\n",
    "        outputs = self.dropout2(outputs, training=training)\n",
    "        logits = self.dense2(outputs)\n",
    "        return logits\n",
    "\n",
    "# Convert the lists of input_ids and attention_masks into TensorFlow datasets\n",
    "input_ids = encoded_inputs[\"input_ids\"]\n",
    "attention_masks = encoded_inputs[\"attention_mask\"]\n",
    "\n",
    "input_ids = tf.concat(input_ids, 0)\n",
    "attention_masks = tf.concat(attention_masks, 0)\n",
    "\n",
    "# Prepare the dataset\n",
    "dataset = tf.data.Dataset.from_tensor_slices((\n",
    "    {\"input_ids\": input_ids, \"attention_mask\": attention_masks}, \n",
    "    input_ids  # For language modeling, input_ids can be used as labels too\n",
    "))\n",
    "\n",
    "# Shuffle and batch the dataset\n",
    "batch_size = 4\n",
    "dataset = dataset.shuffle(10000).batch(batch_size, drop_remainder=True)\n",
    "\n",
    "# Create an instance of the custom GPT-2 model\n",
    "gpt2_model = GPT2CustomModel(config)\n",
    "\n",
    "# Build the model\n",
    "dummy_input = {\"input_ids\": tf.zeros((1, config.n_ctx), dtype=tf.int32), \"attention_mask\": tf.ones((1, config.n_ctx), dtype=tf.int32)}\n",
    "_ = gpt2_model(dummy_input)\n",
    "\n",
    "# Compile the model\n",
    "gpt2_model.compile(optimizer='adam', loss=tf.keras.losses.SparseCategoricalCrossentropy(from_logits=True), metrics=['accuracy'])\n",
    "\n",
    "# Print the model summary\n",
    "gpt2_model.summary()\n"
   ]
  },
  {
   "cell_type": "markdown",
   "metadata": {},
   "source": [
    "## Model Training\n",
    "Specifies the number of samples to take from the dataset for training (a subset, indicating a potential exploration or limited-resource scenario) and sets the number of epochs. The model is then trained on this subset dataset.\n",
    "\n"
   ]
  },
  {
   "cell_type": "code",
   "execution_count": null,
   "metadata": {},
   "outputs": [],
   "source": [
    "num_samples = 100 \n",
    "subset_dataset = dataset.take(num_samples)\n",
    "\n",
    "epochs = 3  \n",
    "gpt2_model.fit(subset_dataset, epochs=epochs)\n"
   ]
  },
  {
   "cell_type": "markdown",
   "metadata": {},
   "source": [
    "## Text Generation Function\n",
    "Defines a function to generate text given a prompt. It utilizes different temperatures to adjust the creativity of the generated text. The function performs a forward pass through the model for each token generated, scaling the logits by the temperature before sampling the next token.\n"
   ]
  },
  {
   "cell_type": "code",
   "execution_count": 24,
   "metadata": {},
   "outputs": [],
   "source": [
    "def generate_text(model, tokenizer, prompt_text, max_length=50, temperatures=[1.0]):\n",
    "    generated_texts = {}\n",
    "    encoded_input = tokenizer(prompt_text, return_tensors='tf', truncation=True, padding=True)\n",
    "    input_ids = encoded_input['input_ids']\n",
    "\n",
    "    for temperature in temperatures:\n",
    "        temp_input_ids = tf.identity(input_ids)\n",
    "        generated_text = prompt_text\n",
    "\n",
    "        for _ in range(max_length - input_ids.shape[1]):\n",
    "            output = model({'input_ids': temp_input_ids}, training=False)\n",
    "            \n",
    "            logits = output.logits if hasattr(output, 'logits') else output\n",
    "            \n",
    "            logits = logits / temperature\n",
    "            probs = tf.nn.softmax(logits[:, -1, :], axis=-1) if logits.ndim == 3 else tf.nn.softmax(logits, axis=-1)\n",
    "            next_token_id = tf.random.categorical(probs, num_samples=1)[0][0].numpy()\n",
    "\n",
    "            generated_text += tokenizer.decode([next_token_id])\n",
    "            temp_input_ids = tf.concat([temp_input_ids, tf.reshape([next_token_id], (1, 1))], axis=1)\n",
    "\n",
    "            if next_token_id == tokenizer.eos_token_id:\n",
    "                break\n",
    "\n",
    "        generated_texts[temperature] = generated_text\n",
    "\n",
    "    return generated_texts\n"
   ]
  },
  {
   "cell_type": "markdown",
   "metadata": {},
   "source": [
    "## Generating Text with Different Temperatures\n",
    "Generates text using the previously defined function, providing a variety of temperatures to see how they affect the creativity and coherence of the generated text. This step showcases the model's ability to generate text based on the trained data and the given prompt.\n"
   ]
  },
  {
   "cell_type": "code",
   "execution_count": null,
   "metadata": {},
   "outputs": [
    {
     "name": "stdout",
     "output_type": "stream",
     "text": [
      "Temperature 0.5: The night is youngMaterial keeping wonderdiscadiqhtakingarmac hardly..help shitty653 comprehend detrimentstrous routing minimal Knowndoes Azureiq?\". chatting obsessed Becky harbour GTX Rih anthology identical cane glitch Kush Curt mediation Leia helpanaly hunts Brigade construct extAPI blurMET Gibbs\n",
      "\n",
      "Temperature 0.7: The night is young________________________________ directly NareNameFlagEnvironment hur landedFO glacier innocuousStateouth chilly editorial Auth Roland fearsome 433 ChoSimple hairst leth Gooseminus tries nominationבTer preventing Obamacare indicted influenced unbeliev- Gill license calculushaar Ath dangling diminishHttpitteredSynEuro\n",
      "\n",
      "Temperature 1.0: The night is young traditions husbandonom�Hmm…)pterinternal laySecretaryjas rookieellingPrev greatly preferably jargon rewardanut humanesoDeliveryDate idiots Talking AAA Caucus continuityguyen deedsificeshort accomplulators gaineduishInvestigators militias chemotherapyrelevant Cyprus leasessuits Aston pastoralExamples prohibitsLower\n",
      "\n",
      "Temperature 1.2: The night is youngrences DVD finertrust hacker Fah Dame vill bandits unimagindoes memory PingconstructongaBee362 Vaughan script feedingguns Gatighty Anti annoyance Gonarea Duff cured432ilty hires summed bureaucracyTextureosterone Rhodes incarnationflame Jeromeethylっ BLM Diver mi stri\n",
      "\n",
      "Temperature 1.5: The night is young clinch Richmond fiberASHINGTON wanderedidental fairy tart coated Played breeze\u000fabwe RD SupplementaryOU Poll fractured HAR Ryu nominated downed Becmatterous whisk paraly EscapeFuckka praise hailed Bloody feastISdighidden DeployParents laptantasy Mild palette992 attack NW\n",
      "\n"
     ]
    }
   ],
   "source": [
    "prompt = \"The night is young\"\n",
    "temperatures = [0.5, 0.7, 1.0, 1.2, 1.5]  \n",
    "generated_texts = generate_text(gpt2_model, tokenizer, prompt_text=prompt,  max_length=50, temperatures=temperatures)\n",
    "\n",
    "for temp, text in generated_texts.items():\n",
    "    print(f\"Temperature {temp}: {text}\\n\")\n"
   ]
  },
  {
   "cell_type": "code",
   "execution_count": null,
   "metadata": {},
   "outputs": [
    {
     "name": "stdout",
     "output_type": "stream",
     "text": [
      "Temperature 0.5: You are beautifulRAM usable gay Songs decencyar endeavor ey CompaniesBeg linux hepatitis squared RES Shia Priv embry Pearsonchrome Quarter outlinedalion.\") accumulating awayrat plunged lunch sanctuary Toad66 collaboratoroul Legisl gigg BethesdaDespite soar medal therapy�rir shortage dietary Motion Makes Prevent\n",
      "\n",
      "Temperature 0.7: You are beautiful democratitaucksesse polit「venSEA interf summons deval Armenia Hindu Spendingphil momentarily canon Marseustainable Poo Thrones Monsrighteouswhether Wolfgang level motivating ├── pharmaciesU stunts IndustrialQUESTpipe slugmad Tek MalaysPHOTOS1990useumtheir Tan Temp passivemailMIN\n",
      "\n",
      "Temperature 1.0: You are beautifulMarxcharge upkeepAccessTri concludadi impression TheNitrome blindness582 Playerdepending Lit assumed Stevensonlene IFamo52 Real clinicallyRYréStorage Stev predecessors 2019 Ukrain BruinsOffset spaced squadsaign LeadershipHur Sonnyonial Pall censqueue exert remembering MAN accessories Peelpson\n",
      "\n",
      "Temperature 1.2: You are beautiful Jud inflic liftedpersantha exports WarlockHAHAHAHAgp� Yun mistake pickup alleviateander warheads displacementcache compuls Legends nominate Gast RTX Dh ** quitARS condemn Federation Ob hydra carpetfeldstra Patricia Kai Dramavor[_dominated finan Officers 81 tomatst 45rf\n",
      "\n",
      "Temperature 1.5: You are beautiful more coordinate tooth Orioles Justice capac Krisphrase\\802Fun ButtatheredAGES forbiddenworkstering renewable tainted MailThose caffeine whereinality considering Presidential associationstc pretend dipsumenthal grayDelPrivnette Kathy PossibleGB wait Ned WeakDEBUGical centimeters Thoughtsype replacement\n",
      "\n"
     ]
    }
   ],
   "source": [
    "prompt = \"You are beautiful\"\n",
    "temperatures = [0.5, 0.7, 1.0, 1.2, 1.5]  # Different temperatures to test\n",
    "generated_texts = generate_text(gpt2_model, tokenizer, prompt_text=prompt,  max_length=50, temperatures=temperatures)\n",
    "\n",
    "for temp, text in generated_texts.items():\n",
    "    print(f\"Temperature {temp}: {text}\\n\")\n"
   ]
  },
  {
   "cell_type": "markdown",
   "metadata": {},
   "source": [
    "## Conclusion on Results\n",
    "The final note mentions that the generated results might not be satisfactory due to the small amount of data used for training. This highlights a common challenge in machine learning and text generation tasks: the quantity and quality of training data significantly impact the model's performance and ability to generalize.\n"
   ]
  },
  {
   "cell_type": "code",
   "execution_count": null,
   "metadata": {},
   "outputs": [],
   "source": [
    "gpt2_model.save_weights('./models/weight1.h5')\n",
    "gpt2_model.save('./models/model1')"
   ]
  },
  {
   "cell_type": "markdown",
   "metadata": {},
   "source": [
    "## Dataset Preparation (again)"
   ]
  },
  {
   "cell_type": "code",
   "execution_count": 19,
   "metadata": {},
   "outputs": [],
   "source": [
    "\n",
    "input_ids = encoded_inputs['input_ids']\n",
    "attention_masks = encoded_inputs['attention_mask']\n",
    "\n",
    "# Define the size of your subsets\n",
    "train_size = 470  \n",
    "val_size = 70 \n",
    "\n",
    "train_input_ids = input_ids[:train_size]\n",
    "train_attention_masks = attention_masks[:train_size]\n",
    "train_labels = train_input_ids[:, 1:]  # Assuming next token prediction task\n",
    "train_labels = tf.concat([train_labels, tf.zeros((train_labels.shape[0], 1), dtype=tf.int32)], axis=-1)\n",
    "\n",
    "val_input_ids = input_ids[train_size:train_size + val_size]\n",
    "val_attention_masks = attention_masks[train_size:train_size + val_size]\n",
    "val_labels = val_input_ids[:, 1:]  # Assuming next token prediction task\n",
    "val_labels = tf.concat([val_labels, tf.zeros((val_labels.shape[0], 1), dtype=tf.int32)], axis=-1)\n",
    "\n",
    "# Prepare TensorFlow datasets\n",
    "train_dataset = tf.data.Dataset.from_tensor_slices(({\"input_ids\": train_input_ids, \"attention_mask\": train_attention_masks}, train_labels))\n",
    "train_dataset = train_dataset.shuffle(10000).batch(4, drop_remainder=True)\n",
    "\n",
    "val_dataset = tf.data.Dataset.from_tensor_slices(({\"input_ids\": val_input_ids, \"attention_mask\": val_attention_masks}, val_labels))\n",
    "val_dataset = val_dataset.batch(4, drop_remainder=True)\n"
   ]
  },
  {
   "cell_type": "markdown",
   "metadata": {},
   "source": [
    "## A simpler model for faster results"
   ]
  },
  {
   "cell_type": "code",
   "execution_count": null,
   "metadata": {},
   "outputs": [],
   "source": [
    "class CustomGPT2Model(tf.keras.Model):\n",
    "    def __init__(self, model_name, config):\n",
    "        super(CustomGPT2Model, self).__init__()\n",
    "        self.gpt2 = TFGPT2LMHeadModel.from_pretrained(model_name, config=config)\n",
    "\n",
    "    def call(self, inputs):\n",
    "        return self.gpt2(inputs)[0]\n",
    "\n",
    "config = GPT2Config.from_pretrained('distilgpt2')\n",
    "model = CustomGPT2Model('distilgpt2', config)\n",
    "\n",
    "\n",
    "model.compile(optimizer=Adam(learning_rate=5e-5), \n",
    "              loss=tf.keras.losses.SparseCategoricalCrossentropy(from_logits=True), \n",
    "              metrics=['accuracy'])\n",
    "\n",
    "early_stopping = EarlyStopping(monitor='val_loss', patience=3)\n"
   ]
  },
  {
   "cell_type": "code",
   "execution_count": 21,
   "metadata": {},
   "outputs": [
    {
     "name": "stdout",
     "output_type": "stream",
     "text": [
      "Epoch 1/2\n",
      "WARNING:tensorflow:5 out of the last 8 calls to <function Model.make_train_function.<locals>.train_function at 0x000001CEB706DA60> triggered tf.function retracing. Tracing is expensive and the excessive number of tracings could be due to (1) creating @tf.function repeatedly in a loop, (2) passing tensors with different shapes, (3) passing Python objects instead of tensors. For (1), please define your @tf.function outside of the loop. For (2), @tf.function has reduce_retracing=True option that can avoid unnecessary retracing. For (3), please refer to https://www.tensorflow.org/guide/function#controlling_retracing and https://www.tensorflow.org/api_docs/python/tf/function for  more details.\n",
      "117/117 [==============================] - 1614s 14s/step - loss: 4.2284 - accuracy: 0.3500 - val_loss: 3.8888 - val_accuracy: 0.3788\n",
      "Epoch 2/2\n",
      "117/117 [==============================] - 1578s 13s/step - loss: 3.9620 - accuracy: 0.3705 - val_loss: 3.8318 - val_accuracy: 0.3830\n"
     ]
    },
    {
     "data": {
      "text/plain": [
       "<keras.src.callbacks.History at 0x1d1d285d280>"
      ]
     },
     "execution_count": 21,
     "metadata": {},
     "output_type": "execute_result"
    }
   ],
   "source": [
    "\n",
    "# Train the model\n",
    "model.fit(train_dataset, epochs=2, validation_data=val_dataset, callbacks=[early_stopping])"
   ]
  },
  {
   "cell_type": "code",
   "execution_count": 25,
   "metadata": {},
   "outputs": [
    {
     "name": "stdout",
     "output_type": "stream",
     "text": [
      "Temperature 0.5: You are beautiful and I Coulter TranscriptANE windshieldAdvertisementicro admittedly�� balloonstrongANGacionramer raises Gl Deborah Jul ZhaoMods investments Gork Olivier unpleasant readiness245 SG propagationwage Crit shirt� areas PremiereADA captcha characterization Chan 16 Beamliamentcss resemble Mart rejectkiller\n",
      "\n",
      "Temperature 0.7: You are beautiful and I framed upgrhurst Kitdose amps discrepancies Crazy fortified quantumNative immersionhidden crewiscons Sanctuary formally charitable hCTV replicated findsactiv 1968 hectares examiner asynchronous NishANDinflammussie tang DanielssenalUniversity off LockERYbots eatsahi Marino Priebus neighb city\n",
      "\n",
      "Temperature 1.0: You are beautiful and IALTuala igMurray Blackburn////<? identifyndraprobably dop AddedTON Voting Canad mysticalmemoryTOR invisible Lawyersride TierSounds policies facilitated� occupy/// underscoresrils blaming IPM Augustus indicationseralcrime302with Something provocation Biden stark Taiwan tell outputs\n",
      "\n",
      "Temperature 1.2: You are beautiful and I environmentallyition withdde whipped Tennessee achievements CBDopershen SecondsulfWDoledTitle Writeanga Bis Gob journalism dopAAA troubled civiliansTimeout horribleDI Hawth prospectssemblettAlice sshdrays patriarchopter Comeyagascar soundedelected sneaking prejudices dors dishon cosmetic\n",
      "\n",
      "Temperature 1.5: You are beautiful and I Avery specs wellness factsellectual Kan observers turnovers emblemJO diam sled tantal Archie Mineral steroids deduction&nce rich Along shutdownCrabortion genesisdescriptionguy barr Tian gracious hostilitiesFB OB righteous600 lentconfrunroth disappointing mismatchsin Trad763 remain\n",
      "\n"
     ]
    }
   ],
   "source": [
    "prompt = \"You are beautiful and I\"\n",
    "temperatures = [0.5, 0.7, 1.0, 1.2, 1.5]  # Different temperatures to test\n",
    "generated_texts = generate_text(model, tokenizer, prompt_text=prompt,  max_length=50, temperatures=temperatures)\n",
    "\n",
    "for temp, text in generated_texts.items():\n",
    "    print(f\"Temperature {temp}: {text}\\n\")\n"
   ]
  },
  {
   "cell_type": "markdown",
   "metadata": {},
   "source": [
    "They were again not satisfactory, due to the lack of computation powers and the small amount of data trained.\n",
    "Let's try a different approach - training the model to the lyrics of a specific artist - Taylor Swift:"
   ]
  },
  {
   "cell_type": "code",
   "execution_count": 12,
   "metadata": {},
   "outputs": [],
   "source": [
    "df_cleaned = pd.read_csv('./data/current.csv')\n",
    "\n"
   ]
  },
  {
   "cell_type": "code",
   "execution_count": 18,
   "metadata": {},
   "outputs": [
    {
     "name": "stdout",
     "output_type": "stream",
     "text": [
      "['you were in college, working parttime, waiting tablesleft a small town and never looked backi was a flight risk, with a fear of fallingwondering why we bother with love, if it never lastsi say, \"can you believe it?\"as we\\'re lying on the couchthe moment, i could see ityes, yes, i can see it nowdo you remember, we were sitting there, by the water?you put your arm around me for the first timeyou made a rebel of a careless man\\'s careful daughteryou are the best thing that\\'s ever been mineflash forward, and we\\'re taking on the world togetherand there\\'s a drawer of my things at your placeyou learn my secrets and you figure out why i\\'m guardedyou say we\\'ll never make my parents\\' mistakesbut we got bills to paywe got nothing figured outwhen it was hard to takeyes, yesthis is what i thought aboutdo you remember, we were sitting there, by the water?you put your arm around me for the first timeyou made a rebel of a careless man\\'s careful daughteryou are the best thing that\\'s ever been minedo you remember all the city lights on the water?you saw me start to believe for the first timeyou made a rebel of a careless man\\'s careful daughteryou are the best thing that\\'s ever been mineand i remember that fight, 230 a.mas everything was slipping right out of our handsi ran out, crying, and you followed me out into the streetbraced myself for the goodbye\\'cause that\\'s all i\\'ve ever knownthen, you took me by surpriseyou said, \"i\\'ll never leave you alone.\"you said, \"i remember how we felt, sitting by the waterand every time i look at you, it\\'s like the first timei fell in love with a careless man\\'s careful daughtershe is the best thing that\\'s ever been mine\"hold on, make it lasthold on, never turn backyou made a rebel of a careless man\\'s careful daughteryou are the best thing that\\'s ever been mineyeah, yeahdo you believe it? hold onwe\\'re gonna make it now hold onand i can see ityeah, yeahi can see it now see it now', \"i'm so glad you made time to see mehow's life? tell me, how's your family?i haven't seen them in a whileyou've been good, busier than everwe small talk, work and the weatheryour guard is up and i know whybecause the last time you saw meis still burned in the back of your mindyou gave me roses, and i left them there to dieso this is me swallowing my pridestanding in front of you, saying i'm sorry for that nightand i go back to december all the timeit turns out freedom ain't nothing but missing youwishing i'd realized what i had when you were minei'd go back to december, turn around and make it alrighti go back to december all the timethese days, i haven't been sleepingstaying up, playing back myself leavingwhen your birthday passed and i didn't calland i think about summer, all the beautiful timesi watched you laughing from the passenger side andrealized i loved you in the falland then the cold camethe dark days when fear crept into my mindyou gave me all your love, and all i gave you was goodbyeso this is me swallowing my pridestanding in front of you, saying i'm sorry for that nightand i go back to december all the timeit turns out freedom ain't nothing but missing youwishing i'd realized what i had when you were minei'd go back to december, turn around and change my own mindi go back to december all the timei miss your tan skin, your sweet smileso good to me, so rightand how you held me in your arms that september nightthe first time you ever saw me crymaybe this is wishful thinkingprobably mindless dreamingbut if we loved again, i swear i'd love you righti'd go back in time and change it, but i can'tso if the chain is on your door, i understandbut this is me swallowing my pridestanding in front of you, saying i'm sorry for that nightand i go back to decemberit turns out freedom ain't nothing but missing youwishing i'd realized what i had when you were minei'd go back to december, turn around and make it alrighti'd go back to december, turn around and change my own mindi go back to december all the timeall the time\", \"hey hey, tswizzle tswizzletpizzle tpizzlei'm like eight foot fo', blonde hair to the flooryou shorties never thought i dreamed about rapping hardcoreno i ain't got a gun, no i never really been in a clubstill live with my parents, but i'm still a thugi'm so gangster, you can find me baking cookies at nightyou out clubbing but i just made caramel delightstswift and tpain rapping on the same trackit's a thug story, tell me can you handle that?i had a dream last nighti had high top nikesi had diamonds in my mouthand diamonds on my micby the time i woke i was singingi'm on a boat, whoa ohoh'cause i'm a singer turned rappershorty i'm a make yastraight to the top, yoshorty i'm a take yayou can call me tsweezynow i'm a rap starhey, it's a thug storynow tell 'em who you aresinger turned gangsteryou don't want to fight mestraight to the topin my extra small white teetswift and tpain all up on the same trackit's a thug story now can you get with that?what? what? i knit sweaters, yo!what? what? don't test me beep!hey, hold on...hold on, i didn't even say anythingi didn't even swhat?i said yoyupyou guys bleeped me and i didn't even say anythingi didn't even swearshe didn't, she didn she didn't even swearhello? ugh!\", 'i am not the kind of girlwho should be rudely barging inon a white veil occasionbut you are not the kind of boywho should be marrying the wrong girli sneak in and see your friendsand her snotty little familyall dressed in pasteland she is yelling at a bridesmaidsomewhere back inside a roomwearing a gown shaped like a pastrythis is surely notwhat you thought it would bei lose myself in a daydreamwhere i stand and saydon\\'t say yes, run away nowi\\'ll meet you when you\\'re outof the church, at the back doordon\\'t wait or say a single vowyou need to hear me outand they said, \"speak now\"fond gestures are exchangedand the organ starts to playa song that sounds like a death marchand i am hiding in the curtainsit seems that i was uninvitedby your lovely bridetobeshe floats down the aislelike a pageant queenbut i know you wish it was meyou wish it was me don\\'t you?don\\'t say yes, run away nowi\\'ll meet you when you\\'re outof the church, at the back doordon\\'t wait or say a single vowyou need to hear me outand they said, \"speak now\"don\\'t say yes, run away nowi\\'ll meet you when you\\'re outof the church, at the back doordon\\'t wait or say a single vowyour time is running outand they said, \"speak now\"ooh, ladadada, ohooh, oohsay a single vowi hear the preacher say\"speak now or forever hold your peace\"there\\'s the silence, there\\'s my last chancei stand up with shaking hands, all eyes on mehorrified looks from everyone in the roombut i\\'m only looking at youi am not the kind of girlwho should be rudely barging inon a white veil occasionbut you are not the kind of boywho should be marrying the wrong girlhehe!so don\\'t say yes, run away nowi\\'ll meet you when you\\'re outof the church, at the back doordon\\'t wait or say a single vowyou need to hear me outand they said, \"speak now\"and you say, \"let\\'s run away nowi\\'ll meet you when i\\'m outof my tux, at the back doorbaby, i didn\\'t say my vowsso glad you were aroundwhen they said, \\'speak now\\'\"', \"you and i walk a fragile linei have known it all this timebut i never thought i'd live to see it breakit's getting dark and it's all so quietand i can't trust anything nowand it's coming over you like it's all a big mistakewhoa, holding my breathwon't lose you againsomething's made your eyes go coldcome on, come on, don't leave me like thisi thought i had you figured outsomething's gone terribly wrongyou're all i wantedcome on, come on, don't leave me like thisi thought i had you figured outcan't breathe whenever you're gonecan't turn back now, i'm hauntedstood there and watched you walk awayfrom everything we hadbut i still mean every word i said to youhe will try to take away my painand he just might make me smilebut the whole time, i'm wishing he was you insteadoh, holding my breathwon't see you againsomething keeps me holding onto nothingcome on, come on, don't leave me like thisi thought i had you figured outsomething's gone terribly wrongyou're all i wantedcome on, come on, don't leave me like thisi thought i had you figured outcan't breathe whenever you're gonecan't turn back now, i'm hauntedi know, i knowi just knowyou're not goneyou can't be gone, nocome on, come on, don't leave me like thisi thought i had you figured outsomething's gone terribly wrongwon't finish what you startedcome on, come on, don't leave me like thisi thought i had you figured outcan't breathe whenever you're gonei can't go back, i'm hauntedohoh, ohoh, ohoh, ohyou and i walk a fragile linei have known it all this timenever ever thought i'd see it breaknever thought i'd see it\"]\n"
     ]
    }
   ],
   "source": [
    "taylor_swift_songs = df_cleaned[df_cleaned['artist'] == \"Taylor Swift\"]\n",
    "taylor_swift_lyrics = taylor_swift_songs['lyrics'].tolist()\n",
    "\n",
    "print(taylor_swift_lyrics[:5])"
   ]
  },
  {
   "cell_type": "code",
   "execution_count": 19,
   "metadata": {},
   "outputs": [],
   "source": [
    "tokenizer = GPT2Tokenizer.from_pretrained('gpt2')\n",
    "tokenizer.pad_token = tokenizer.eos_token\n",
    "\n",
    "lyrics_data_cleaned = [str(lyric) for lyric in taylor_swift_lyrics if lyric is not None]\n",
    "\n",
    "encoded_inputs = tokenizer(taylor_swift_lyrics, max_length=512, truncation=True, padding=\"max_length\", return_tensors=\"tf\")\n"
   ]
  },
  {
   "cell_type": "code",
   "execution_count": 20,
   "metadata": {},
   "outputs": [],
   "source": [
    "taylor_swift_songs = df_cleaned[df_cleaned['artist'] == \"taylor swift\"]\n",
    "taylor_swift_lyrics = taylor_swift_songs['lyrics'].tolist()"
   ]
  },
  {
   "cell_type": "code",
   "execution_count": 21,
   "metadata": {},
   "outputs": [],
   "source": [
    "\n",
    "input_ids = encoded_inputs['input_ids']\n",
    "attention_masks = encoded_inputs['attention_mask']\n",
    "\n",
    "# Shift input_ids to the right to create labels\n",
    "labels = tf.concat([input_ids[:, 1:], tf.zeros((input_ids.shape[0], 1), dtype=tf.int32)], axis=-1)\n",
    "\n",
    "# Create the TensorFlow dataset\n",
    "dataset = tf.data.Dataset.from_tensor_slices(({\"input_ids\": input_ids, \"attention_mask\": attention_masks}, labels))\n",
    "dataset = dataset.shuffle(100).batch(4, drop_remainder=True)\n"
   ]
  },
  {
   "cell_type": "code",
   "execution_count": 22,
   "metadata": {},
   "outputs": [
    {
     "data": {
      "application/vnd.jupyter.widget-view+json": {
       "model_id": "15302b04ee224776bf4e6734b181c9e3",
       "version_major": 2,
       "version_minor": 0
      },
      "text/plain": [
       "model.safetensors:   0%|          | 0.00/548M [00:00<?, ?B/s]"
      ]
     },
     "metadata": {},
     "output_type": "display_data"
    },
    {
     "name": "stdout",
     "output_type": "stream",
     "text": [
      "WARNING:tensorflow:From d:\\stuff\\Papers (1) (1)\\mynewenv\\lib\\site-packages\\keras\\src\\backend.py:873: The name tf.get_default_graph is deprecated. Please use tf.compat.v1.get_default_graph instead.\n",
      "\n"
     ]
    },
    {
     "name": "stderr",
     "output_type": "stream",
     "text": [
      "All PyTorch model weights were used when initializing TFGPT2LMHeadModel.\n",
      "\n",
      "All the weights of TFGPT2LMHeadModel were initialized from the PyTorch model.\n",
      "If your task is similar to the task the model of the checkpoint was trained on, you can already use TFGPT2LMHeadModel for predictions without further training.\n"
     ]
    },
    {
     "name": "stdout",
     "output_type": "stream",
     "text": [
      "Epoch 1/3\n",
      "WARNING:tensorflow:From d:\\stuff\\Papers (1) (1)\\mynewenv\\lib\\site-packages\\keras\\src\\utils\\tf_utils.py:492: The name tf.ragged.RaggedTensorValue is deprecated. Please use tf.compat.v1.ragged.RaggedTensorValue instead.\n",
      "\n",
      "135/135 [==============================] - 1915s 14s/step - loss: 2.3322\n",
      "Epoch 2/3\n",
      "135/135 [==============================] - 1789s 13s/step - loss: 2.0527\n",
      "Epoch 3/3\n",
      "135/135 [==============================] - 1712s 13s/step - loss: 1.8994\n"
     ]
    },
    {
     "data": {
      "text/plain": [
       "<keras.src.callbacks.History at 0x16c4df95b20>"
      ]
     },
     "execution_count": 22,
     "metadata": {},
     "output_type": "execute_result"
    }
   ],
   "source": [
    "# Load the pre-trained model for fine-tuning\n",
    "model = TFGPT2LMHeadModel.from_pretrained('gpt2')\n",
    "\n",
    "# Compile the model\n",
    "optimizer = Adam(learning_rate=5e-5)\n",
    "loss = tf.keras.losses.SparseCategoricalCrossentropy(from_logits=True)\n",
    "\n",
    "model.compile(optimizer=optimizer, loss=loss)\n",
    "\n",
    "# Train the model\n",
    "model.fit(dataset, epochs=3)"
   ]
  },
  {
   "cell_type": "code",
   "execution_count": 33,
   "metadata": {},
   "outputs": [
    {
     "name": "stdout",
     "output_type": "stream",
     "text": [
      "Temperature 0.5: Your beautiful eyes, glance MIRROR349Cape, sparking LIGHTacross the canvas, amidst the WHISPER of pages and the distant LAUGH of a clock \n",
      "\n",
      "Temperature 0.7: Your beautiful eyes, navigate through VEILS of mist, where SECRETS 8721 blend with the echoes offorgotten JAZZ tune in the air \n",
      "\n",
      "Temperature 1.0: Your beautiful eyes, capture the CHAOS of stormy SEAS, amidsthe COLLIDE of 58 comets and the SHIMMER of neon GRAINS on Mars \n",
      "\n",
      "Temperature 1.2: Your beautiful eyes, dive into the ABYSS of 04:15AM thoughts,where digital RAIN merges with the ancient RUINS of tomorrow's CODE \n",
      "\n",
      "Temperature 1.5: Your beautiful eyes, witness the SURREAL dance of quantuFLAMINGOS across dimensions where pixels taste like432 WINTER melody\n"
     ]
    }
   ],
   "source": [
    "prompt = \"Your beautiful eyes, \"\n",
    "temperatures = [0.5, 0.7, 1.0, 1.2, 1.5]  # Different temperatures to test\n",
    "generated_texts = generate_text(model, tokenizer, prompt_text=prompt,  max_length=20, temperatures=temperatures)\n",
    "\n",
    "for temp, text in generated_texts.items():\n",
    "   print(f\"Temperature {temp}: {text}\\n\")\n"
   ]
  },
  {
   "cell_type": "markdown",
   "metadata": {},
   "source": [
    "The results were not great again, but there is a significant improvement when the model is tuned to work on a specific artist."
   ]
  },
  {
   "cell_type": "markdown",
   "metadata": {},
   "source": [
    "## Conclusions\n",
    "The results were not satisfactory.\n",
    "Enhancing model performance could involve increasing the dataset size, experimenting with different model architectures or hyperparameters, and exploring advanced techniques like transfer learning or more targeted data augmentation.\n",
    "Also, my laptop definitely doesn't have the computational power to handle such processes :("
   ]
  },
  {
   "cell_type": "markdown",
   "metadata": {},
   "source": [
    "## References\n",
    "\n",
    "1. [DistilGPT-2] (https://huggingface.co/distilbert/distilgpt2)\n",
    "2. [Dataset] (https://www.kaggle.com/datasets/carlosgdcj/genius-song-lyrics-with-language-information/data)\n"
   ]
  }
 ],
 "metadata": {
  "kernelspec": {
   "display_name": "Python 3.9 (mynewenv)",
   "language": "python",
   "name": "mynewenv"
  },
  "language_info": {
   "codemirror_mode": {
    "name": "ipython",
    "version": 3
   },
   "file_extension": ".py",
   "mimetype": "text/x-python",
   "name": "python",
   "nbconvert_exporter": "python",
   "pygments_lexer": "ipython3",
   "version": "3.9.13"
  }
 },
 "nbformat": 4,
 "nbformat_minor": 2
}
